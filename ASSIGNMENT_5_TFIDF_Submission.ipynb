{
  "nbformat": 4,
  "nbformat_minor": 0,
  "metadata": {
    "colab": {
      "name": "ASSIGNMENT_5_TFIDF_DRAFT.ipynb",
      "provenance": [],
      "collapsed_sections": [],
      "include_colab_link": true
    },
    "kernelspec": {
      "display_name": "Python 3",
      "language": "python",
      "name": "python3"
    },
    "language_info": {
      "codemirror_mode": {
        "name": "ipython",
        "version": 3
      },
      "file_extension": ".py",
      "mimetype": "text/x-python",
      "name": "python",
      "nbconvert_exporter": "python",
      "pygments_lexer": "ipython3",
      "version": "3.7.1"
    }
  },
  "cells": [
    {
      "cell_type": "markdown",
      "metadata": {
        "id": "view-in-github",
        "colab_type": "text"
      },
      "source": [
        "<a href=\"https://colab.research.google.com/github/S-geethika/Python_ML_Codes/blob/main/ASSIGNMENT_5_TFIDF_Submission.ipynb\" target=\"_parent\"><img src=\"https://colab.research.google.com/assets/colab-badge.svg\" alt=\"Open In Colab\"/></a>"
      ]
    },
    {
      "cell_type": "markdown",
      "metadata": {
        "id": "h9464I-uxLiw"
      },
      "source": [
        "# Assignment"
      ]
    },
    {
      "cell_type": "markdown",
      "metadata": {
        "id": "IvLvmewlxLix"
      },
      "source": [
        "<font face='georgia'>\n",
        "    \n",
        "   <h4><strong>What does tf-idf mean?</strong></h4>\n",
        "\n",
        "   <p>    \n",
        "Tf-idf stands for <em>term frequency-inverse document frequency</em>, and the tf-idf weight is a weight often used in information retrieval and text mining. This weight is a statistical measure used to evaluate how important a word is to a document in a collection or corpus. The importance increases proportionally to the number of times a word appears in the document but is offset by the frequency of the word in the corpus. Variations of the tf-idf weighting scheme are often used by search engines as a central tool in scoring and ranking a document's relevance given a user query.\n",
        "</p>\n",
        "    \n",
        "   <p>\n",
        "One of the simplest ranking functions is computed by summing the tf-idf for each query term; many more sophisticated ranking functions are variants of this simple model.\n",
        "</p>\n",
        "    \n",
        "   <p>\n",
        "Tf-idf can be successfully used for stop-words filtering in various subject fields including text summarization and classification.\n",
        "</p>\n",
        "    \n",
        "</font>"
      ]
    },
    {
      "cell_type": "markdown",
      "metadata": {
        "id": "4XLaGFUMxLiy"
      },
      "source": [
        "<font face='georgia'>\n",
        "    <h4><strong>How to Compute:</strong></h4>\n",
        "\n",
        "Typically, the tf-idf weight is composed by two terms: the first computes the normalized Term Frequency (TF), aka. the number of times a word appears in a document, divided by the total number of words in that document; the second term is the Inverse Document Frequency (IDF), computed as the logarithm of the number of the documents in the corpus divided by the number of documents where the specific term appears.\n",
        "\n",
        " <ul>\n",
        "    <li>\n",
        "<strong>TF:</strong> Term Frequency, which measures how frequently a term occurs in a document. Since every document is different in length, it is possible that a term would appear much more times in long documents than shorter ones. Thus, the term frequency is often divided by the document length (aka. the total number of terms in the document) as a way of normalization: <br>\n",
        "\n",
        "$TF(t) = \\frac{\\text{Number of times term t appears in a document}}{\\text{Total number of terms in the document}}.$\n",
        "</li>\n",
        "<li>\n",
        "<strong>IDF:</strong> Inverse Document Frequency, which measures how important a term is. While computing TF, all terms are considered equally important. However it is known that certain terms, such as \"is\", \"of\", and \"that\", may appear a lot of times but have little importance. Thus we need to weigh down the frequent terms while scale up the rare ones, by computing the following: <br>\n",
        "\n",
        "$IDF(t) = \\log_{e}\\frac{\\text{Total  number of documents}} {\\text{Number of documents with term t in it}}.$\n",
        "for numerical stabiltiy we will be changing this formula little bit\n",
        "$IDF(t) = \\log_{e}\\frac{\\text{Total  number of documents}} {\\text{Number of documents with term t in it}+1}.$\n",
        "</li>\n",
        "</ul>\n",
        "\n",
        "<br>\n",
        "<h4><strong>Example</strong></h4>\n",
        "<p>\n",
        "\n",
        "Consider a document containing 100 words wherein the word cat appears 3 times. The term frequency (i.e., tf) for cat is then (3 / 100) = 0.03. Now, assume we have 10 million documents and the word cat appears in one thousand of these. Then, the inverse document frequency (i.e., idf) is calculated as log(10,000,000 / 1,000) = 4. Thus, the Tf-idf weight is the product of these quantities: 0.03 * 4 = 0.12.\n",
        "</p>\n",
        "</font>"
      ]
    },
    {
      "cell_type": "markdown",
      "metadata": {
        "id": "dg2ooa4DxLiz"
      },
      "source": [
        "## Task-1"
      ]
    },
    {
      "cell_type": "markdown",
      "metadata": {
        "id": "TAcTjhO8xLiz"
      },
      "source": [
        "<font face='georgia'>\n",
        "    <h4><strong>1. Build a TFIDF Vectorizer & compare its results with Sklearn:</strong></h4>\n",
        "\n",
        "<ul>\n",
        "    <li> As a part of this task you will be implementing TFIDF vectorizer on a collection of text documents.</li>\n",
        "    <br>\n",
        "    <li> You should compare the results of your own implementation of TFIDF vectorizer with that of sklearns implemenation TFIDF vectorizer.</li>\n",
        "    <br>\n",
        "    <li> Sklearn does few more tweaks in the implementation of its version of TFIDF vectorizer, so to replicate the exact results you would need to add following things to your custom implementation of tfidf vectorizer:\n",
        "       <ol>\n",
        "        <li> Sklearn has its vocabulary generated from idf sorted in alphabetical order</li>\n",
        "        <li> Sklearn formula of idf is different from the standard textbook formula. Here the constant <strong>\"1\"</strong> is added to the numerator and denominator of the idf as if an extra document was seen containing every term in the collection exactly once, which prevents zero divisions.\n",
        "            \n",
        " $IDF(t) = 1+\\log_{e}\\frac{1\\text{ }+\\text{ Total  number of documents in collection}} {1+\\text{Number of documents with term t in it}}.$\n",
        "        </li>\n",
        "        <li> Sklearn applies L2-normalization on its output matrix.</li>\n",
        "        <li> The final output of sklearn tfidf vectorizer is a sparse matrix.</li>\n",
        "    </ol>\n",
        "    <br>\n",
        "    <li>Steps to approach this task:\n",
        "    <ol>\n",
        "        <li> You would have to write both fit and transform methods for your custom implementation of tfidf vectorizer.</li>\n",
        "        <li> Print out the alphabetically sorted vocab after you fit your data and check if its the same as that of the feature names from sklearn tfidf vectorizer. </li>\n",
        "        <li> Print out the idf values from your implementation and check if its the same as that of sklearns tfidf vectorizer idf values. </li>\n",
        "        <li> Once you get your vocab and idf values to be same as that of sklearns implementation of tfidf vectorizer, proceed to the below steps. </li>\n",
        "        <li> Make sure the output of your implementation is a sparse matrix. Before generating the final output, you need to normalize your sparse matrix using L2 normalization. You can refer to this link https://scikit-learn.org/stable/modules/generated/sklearn.preprocessing.normalize.html </li>\n",
        "        <li> After completing the above steps, print the output of your custom implementation and compare it with sklearns implementation of tfidf vectorizer.</li>\n",
        "        <li> To check the output of a single document in your collection of documents,  you can convert the sparse matrix related only to that document into dense matrix and print it.</li>\n",
        "        </ol>\n",
        "    </li>\n",
        "    <br>\n",
        "   </ul>\n",
        "\n",
        "  <p> <font color=\"#e60000\"><strong>Note-1: </strong></font> All the necessary outputs of sklearns tfidf vectorizer have been provided as reference in this notebook, you can compare your outputs as mentioned in the above steps, with these outputs.<br>\n",
        "   <font color=\"#e60000\"><strong>Note-2: </strong></font> The output of your custom implementation and that of sklearns implementation would match only with the collection of document strings provided to you as reference in this notebook. It would not match for strings that contain capital letters or punctuations, etc, because sklearn version of tfidf vectorizer deals with such strings in a different way. To know further details about how sklearn tfidf vectorizer works with such string, you can always refer to its official documentation.<br>\n",
        "   <font color=\"#e60000\"><strong>Note-3: </strong></font> During this task, it would be helpful for you to debug the code you write with print statements wherever necessary. But when you are finally submitting the assignment, make sure your code is readable and try not to print things which are not part of this task.\n",
        "    </p>"
      ]
    },
    {
      "cell_type": "markdown",
      "metadata": {
        "id": "OnV82tg1xLi0"
      },
      "source": [
        "### Corpus"
      ]
    },
    {
      "cell_type": "code",
      "metadata": {
        "id": "bUsYm9wjxLi1"
      },
      "source": [
        "## SkLearn# Collection of string documents\n",
        "\n",
        "corpus = [\n",
        "     'this is the first document',\n",
        "     'this document is the second document',\n",
        "     'and this is the third one',\n",
        "     'is this the first document',\n",
        "]"
      ],
      "execution_count": 2,
      "outputs": []
    },
    {
      "cell_type": "markdown",
      "metadata": {
        "id": "eLwmFZfKxLi4"
      },
      "source": [
        "### SkLearn Implementation"
      ]
    },
    {
      "cell_type": "code",
      "metadata": {
        "id": "Np4dfQOkxLi4"
      },
      "source": [
        "from sklearn.feature_extraction.text import TfidfVectorizer\n",
        "vectorizer = TfidfVectorizer()\n",
        "vectorizer.fit(corpus)\n",
        "skl_output = vectorizer.transform(corpus)"
      ],
      "execution_count": 3,
      "outputs": []
    },
    {
      "cell_type": "code",
      "metadata": {
        "id": "-7Om8YpYxLi6",
        "colab": {
          "base_uri": "https://localhost:8080/"
        },
        "outputId": "25827ebf-a809-4fca-d0ee-ade2d8d9cbd9"
      },
      "source": [
        "# sklearn feature names, they are sorted in alphabetic order by default.\n",
        "\n",
        "print(vectorizer.get_feature_names())"
      ],
      "execution_count": 4,
      "outputs": [
        {
          "output_type": "stream",
          "name": "stdout",
          "text": [
            "['and', 'document', 'first', 'is', 'one', 'second', 'the', 'third', 'this']\n"
          ]
        }
      ]
    },
    {
      "cell_type": "code",
      "metadata": {
        "id": "dTKplK96xLi-",
        "colab": {
          "base_uri": "https://localhost:8080/"
        },
        "outputId": "dfb76806-4d59-4e3f-b1c9-2f19cfea9014"
      },
      "source": [
        "# Here we will print the sklearn tfidf vectorizer idf values after applying the fit method\n",
        "# After using the fit function on the corpus the vocab has 9 words in it, and each has its idf value.\n",
        "\n",
        "print(vectorizer.idf_)"
      ],
      "execution_count": 5,
      "outputs": [
        {
          "output_type": "stream",
          "name": "stdout",
          "text": [
            "[1.91629073 1.22314355 1.51082562 1.         1.91629073 1.91629073\n",
            " 1.         1.91629073 1.        ]\n"
          ]
        }
      ]
    },
    {
      "cell_type": "code",
      "metadata": {
        "id": "-CTiWHygxLjA",
        "colab": {
          "base_uri": "https://localhost:8080/"
        },
        "outputId": "dd7acfcf-b133-40d0-81a3-8a7cd48810a6"
      },
      "source": [
        "# shape of sklearn tfidf vectorizer output after applying transform method.\n",
        "\n",
        "skl_output.shape"
      ],
      "execution_count": 6,
      "outputs": [
        {
          "output_type": "execute_result",
          "data": {
            "text/plain": [
              "(4, 9)"
            ]
          },
          "metadata": {},
          "execution_count": 6
        }
      ]
    },
    {
      "cell_type": "code",
      "metadata": {
        "id": "bDKEpbA-xLjD",
        "colab": {
          "base_uri": "https://localhost:8080/"
        },
        "outputId": "7bc4a7f4-497b-436f-bf8b-4d69a0049a24"
      },
      "source": [
        "# sklearn tfidf values for first line of the above corpus.\n",
        "# Here the output is a sparse matrix\n",
        "\n",
        "print(skl_output[0])"
      ],
      "execution_count": 7,
      "outputs": [
        {
          "output_type": "stream",
          "name": "stdout",
          "text": [
            "  (0, 8)\t0.38408524091481483\n",
            "  (0, 6)\t0.38408524091481483\n",
            "  (0, 3)\t0.38408524091481483\n",
            "  (0, 2)\t0.5802858236844359\n",
            "  (0, 1)\t0.46979138557992045\n"
          ]
        }
      ]
    },
    {
      "cell_type": "code",
      "metadata": {
        "id": "3QWo34hexLjF",
        "colab": {
          "base_uri": "https://localhost:8080/"
        },
        "outputId": "1b58babe-3ce6-4f23-f9a5-35177beb9dd8"
      },
      "source": [
        "# sklearn tfidf values for first line of the above corpus.\n",
        "# To understand the output better, here we are converting the sparse output matrix to dense matrix and printing it.\n",
        "# Notice that this output is normalized using L2 normalization. sklearn does this by default.\n",
        "\n",
        "print(skl_output[0].toarray())"
      ],
      "execution_count": 8,
      "outputs": [
        {
          "output_type": "stream",
          "name": "stdout",
          "text": [
            "[[0.         0.46979139 0.58028582 0.38408524 0.         0.\n",
            "  0.38408524 0.         0.38408524]]\n"
          ]
        }
      ]
    },
    {
      "cell_type": "markdown",
      "metadata": {
        "id": "qfIwx5LzxLjI"
      },
      "source": [
        "### Your custom implementation"
      ]
    },
    {
      "cell_type": "code",
      "metadata": {
        "id": "HjuCcJwXxLjJ"
      },
      "source": [
        "# Write your code here.\n",
        "# Make sure its well documented and readble with appropriate comments.\n",
        "# Compare your results with the above sklearn tfidf vectorizer\n",
        "# You are not supposed to use any other library apart from the ones given below\n",
        "\n",
        "from collections import Counter\n",
        "from tqdm import tqdm\n",
        "from scipy.sparse import csr_matrix\n",
        "import math\n",
        "import operator\n",
        "from sklearn.preprocessing import normalize\n",
        "import numpy"
      ],
      "execution_count": 9,
      "outputs": []
    },
    {
      "cell_type": "code",
      "metadata": {
        "id": "MVbqgRr4OHIx"
      },
      "source": [
        "import warnings\n",
        "warnings.filterwarnings(\"ignore\")\n",
        "import pandas as pd\n",
        "import os"
      ],
      "execution_count": 10,
      "outputs": []
    },
    {
      "cell_type": "code",
      "metadata": {
        "id": "-QYjzLKPRF96"
      },
      "source": [
        "#reference - taken from assignment_BoW_Reference\n",
        "def fit(dataset):    \n",
        "    vocab_idf={}\n",
        "    Doc_frequency_t={}\n",
        "    unique_words = set() # at first we will initialize an empty set\n",
        "    # check if its list type or not\n",
        "    Total_number_of_documents=len(dataset)\n",
        "    if isinstance(dataset, (list,)):\n",
        "      \n",
        "        for row in dataset: # for each review in the dataset\n",
        "            for word in row.split(\" \"): # for each word in the review. #split method converts a string into list of words\n",
        "                if len(word) < 2:\n",
        "                    continue\n",
        "                unique_words.add(word)\n",
        "        unique_words = sorted(list(unique_words))\n",
        "        vocab = {j:i for i,j in enumerate(unique_words)}\n",
        "\n",
        "        for word,v in vocab.items():\n",
        "          cnt=0\n",
        "          for idx, doc in enumerate((dataset)): \n",
        "            word_index = doc.find(word) # retreving the dimension number of a word\n",
        "            if word_index!=-1:\n",
        "              cnt+=1\n",
        "          Doc_frequency_t[word] =cnt\n",
        "      \n",
        "        for word,v in vocab.items():\n",
        "          vocab_idf[word]=1+math.log((1+Total_number_of_documents)/(Doc_frequency_t[word]+1))\n",
        "\n",
        "        \n",
        "        return vocab,vocab_idf\n",
        "    else:\n",
        "        print(\"you need to pass list of sentence\")"
      ],
      "execution_count": 11,
      "outputs": []
    },
    {
      "cell_type": "code",
      "metadata": {
        "colab": {
          "base_uri": "https://localhost:8080/"
        },
        "id": "kYOj8yoNcgNu",
        "outputId": "cd96df17-3f50-4a81-e581-9301cd9d80e2"
      },
      "source": [
        "vocab,vocab_idf = fit(corpus)\n",
        "print()\n",
        "print(\"My code feature names\")\n",
        "print(list(vocab_idf.keys()))"
      ],
      "execution_count": 12,
      "outputs": [
        {
          "output_type": "stream",
          "name": "stdout",
          "text": [
            "\n",
            "My code feature names\n",
            "['and', 'document', 'first', 'is', 'one', 'second', 'the', 'third', 'this']\n"
          ]
        }
      ]
    },
    {
      "cell_type": "code",
      "metadata": {
        "colab": {
          "base_uri": "https://localhost:8080/"
        },
        "id": "-JcFv1gVcKaQ",
        "outputId": "33fcbd00-4a9d-49a9-a668-0318b2baa261"
      },
      "source": [
        "print(\"idf values after applying the fit method\")\n",
        "print(list(vocab_idf.values()))"
      ],
      "execution_count": 13,
      "outputs": [
        {
          "output_type": "stream",
          "name": "stdout",
          "text": [
            "idf values after applying the fit method\n",
            "[1.916290731874155, 1.2231435513142097, 1.5108256237659907, 1.0, 1.916290731874155, 1.916290731874155, 1.0, 1.916290731874155, 1.0]\n"
          ]
        }
      ]
    },
    {
      "cell_type": "code",
      "metadata": {
        "id": "MbbTV7fjauUj"
      },
      "source": [
        "def transform(dataset,vocab,vocab_idf):\n",
        "    rows = []\n",
        "    columns = []\n",
        "    values = []\n",
        "    \n",
        "    #computing Doc_frequency_t\n",
        "    \n",
        "    \n",
        "    for word,v in vocab.items():\n",
        "      cnt=0\n",
        "     # for idx, doc in enumerate(tqdm(dataset)): \n",
        "      #      word_index = doc.find(word) # retreving the dimension number of a word\n",
        "       #     if word_index!=-1:\n",
        "        #      cnt+=1\n",
        "      #Doc_frequency_t[word] =cnt\n",
        "      \n",
        "    #for word,v in vocab.items():\n",
        "      #IDF1[word]=round(1+math.log((1+Total_number_of_documents)/(Doc_frequency_t[word]+1)),8)\n",
        "     # IDF[word]=1+math.log((1+Total_number_of_documents)/(Doc_frequency_t[word]+1))\n",
        "\n",
        "    if isinstance(dataset, (list,)):\n",
        "    \n",
        "     \n",
        "      for idx, row in enumerate((dataset)): # for each document in the dataset\n",
        "          # it will return a dict type object where key is the word and values is its frequency, {word:frequency}\n",
        "          #print(\"idx is \",idx)\n",
        "          word_freq = dict(Counter(row.split()))\n",
        "          terms_in_doc=word_freq.values()\n",
        "          Total_number_of_terms_in_document=sum(terms_in_doc)\n",
        "      \n",
        "\n",
        "          # for every unique word in the document\n",
        "              \n",
        "\n",
        "          for word, freq in word_freq.items():  # for each unique word in the review.                \n",
        "              \n",
        "              if len(word) < 2:\n",
        "                  continue\n",
        "              # we will check if its there in the vocabulary that we build in fit() function\n",
        "              # dict.get() function will return the values, if the key doesn't exits it will return -1\n",
        "              col_index = vocab.get(word, -1) # retreving the dimension number of a word\n",
        "              \n",
        "              # if the word exists\n",
        "              if col_index !=-1:\n",
        "                  # we are storing the index of the document\n",
        "                  rows.append(idx)\n",
        "                  # we are storing the dimensions of the word\n",
        "                  columns.append(col_index)\n",
        "                  #Number_of_t_in_document=freq\n",
        "                  # we are storing the frequency of the word\n",
        "                  tf=freq/Total_number_of_terms_in_document\n",
        "                  freq1=tf*vocab_idf[word]\n",
        "                  values.append(freq1)\n",
        "      return csr_matrix((values, (rows,columns)), shape=(len(dataset),len(vocab)))\n",
        "    else:\n",
        "        print(\"you need to pass list of strings\")\n",
        "\n"
      ],
      "execution_count": 14,
      "outputs": []
    },
    {
      "cell_type": "code",
      "metadata": {
        "colab": {
          "base_uri": "https://localhost:8080/"
        },
        "id": "FP7aHxBYdRtY",
        "outputId": "2117ed50-69c1-41f0-ba79-53e71767ca5f"
      },
      "source": [
        "\n",
        "#sparse matrix\n",
        "op=transform(corpus, vocab,vocab_idf)\n",
        "#.toarray()\n",
        "op1=normalize(op)\n",
        "print()\n",
        "print(\"My code output \")\n",
        "print(\"Sparse matrix for first document\")\n",
        "print(op1[0])\n",
        "print(\"Dense matrix for first document\")\n",
        "print(op1[0].toarray()) #dense matrix\n",
        "#[0])"
      ],
      "execution_count": 15,
      "outputs": [
        {
          "output_type": "stream",
          "name": "stdout",
          "text": [
            "\n",
            "My code output \n",
            "Sparse matrix for first document\n",
            "  (0, 1)\t0.4697913855799205\n",
            "  (0, 2)\t0.580285823684436\n",
            "  (0, 3)\t0.3840852409148149\n",
            "  (0, 6)\t0.3840852409148149\n",
            "  (0, 8)\t0.3840852409148149\n",
            "Dense matrix for first document\n",
            "[[0.         0.46979139 0.58028582 0.38408524 0.         0.\n",
            "  0.38408524 0.         0.38408524]]\n"
          ]
        }
      ]
    },
    {
      "cell_type": "markdown",
      "metadata": {
        "id": "MMxBmVZExLjK"
      },
      "source": [
        "## Task-2"
      ]
    },
    {
      "cell_type": "markdown",
      "metadata": {
        "id": "51j_OtqAxLjL"
      },
      "source": [
        "<font face='georgia'>\n",
        "    <h4><strong>2. Implement max features functionality:</strong></h4>\n",
        "\n",
        "<ul>\n",
        "    <li> As a part of this task you have to modify your fit and transform functions so that your vocab will contain only 50 terms with top idf scores.</li>\n",
        "    <br>\n",
        "    <li>This task is similar to your previous task, just that here your vocabulary is limited to only top 50 features names based on their idf values. Basically your output will have exactly 50 columns and the number of rows will depend on the number of documents you have in your corpus.</li>\n",
        "    <br>\n",
        "    <li>Here you will be give a pickle file, with file name <strong>cleaned_strings</strong>. You would have to load the corpus from this file and use it as input to your tfidf vectorizer.</li>\n",
        "    <br>\n",
        "    <li>Steps to approach this task:\n",
        "    <ol>\n",
        "        <li> You would have to write both fit and transform methods for your custom implementation of tfidf vectorizer, just like in the previous task. Additionally, here you have to limit the number of features generated to 50 as described above.</li>\n",
        "        <li> Now sort your vocab based in descending order of idf values and print out the words in the sorted voacb after you fit your data. Here you should be getting only 50 terms in your vocab. And make sure to print idf values for each term in your vocab. </li>\n",
        "        <li> Make sure the output of your implementation is a sparse matrix. Before generating the final output, you need to normalize your sparse matrix using L2 normalization. You can refer to this link https://scikit-learn.org/stable/modules/generated/sklearn.preprocessing.normalize.html </li>\n",
        "        <li> Now check the output of a single document in your collection of documents,  you can convert the sparse matrix related only to that document into dense matrix and print it. And this dense matrix should contain 1 row and 50 columns. </li>\n",
        "        </ol>\n",
        "    </li>\n",
        "    <br>\n",
        "   </ul>"
      ]
    },
    {
      "cell_type": "code",
      "metadata": {
        "id": "NHxPLlwNxLjL",
        "colab": {
          "base_uri": "https://localhost:8080/"
        },
        "outputId": "e14492ce-27c5-4004-fdef-00a4c23adb62"
      },
      "source": [
        "# Below is the code to load the cleaned_strings pickle file provided\n",
        "# Here corpus is of list type\n",
        "\n",
        "import pickle\n",
        "with open('/content/drive/MyDrive/Colab Notebooks/Assignment_5/cleaned_strings', 'rb') as f:\n",
        "    corpus1 = pickle.load(f)\n",
        "    \n",
        "# printing the length of the corpus loaded\n",
        "print(\"Number of documents in corpus = \",len(corpus1))"
      ],
      "execution_count": 16,
      "outputs": [
        {
          "output_type": "stream",
          "name": "stdout",
          "text": [
            "Number of documents in corpus =  746\n"
          ]
        }
      ]
    },
    {
      "cell_type": "code",
      "metadata": {
        "id": "1_DJnnR3xLjR"
      },
      "source": [
        "#reference - taken from assignment_BoW_Reference\n",
        "#ref - https://www.w3resource.com/python-exercises/dictionary/python-data-type-dictionary-exercise-1.php\n",
        "def fit1(dataset,max_features):    \n",
        "    vocab_idf={}\n",
        "    vocab_idf1={}\n",
        "    Doc_frequency_t={}\n",
        "    vocab1={}\n",
        "    unique_words = set() # at first we will initialize an empty set\n",
        "    # check if its list type or not\n",
        "    Total_number_of_documents=len(dataset)\n",
        "    if isinstance(dataset, (list,)):\n",
        "      \n",
        "        for row in dataset: # for each review in the dataset\n",
        "            for word in row.split(\" \"): # for each word in the review. #split method converts a string into list of words\n",
        "                if len(word) < 2:\n",
        "                    continue\n",
        "                unique_words.add(word)\n",
        "        unique_words = sorted(list(unique_words))\n",
        "        vocab = {j:i for i,j in enumerate(unique_words)}\n",
        "\n",
        "        for word,v in vocab.items():\n",
        "          cnt=0\n",
        "          for idx, doc in enumerate(dataset): \n",
        "            word_index = doc.find(word) # retreving the dimension number of a word\n",
        "            if word_index!=-1:\n",
        "              cnt+=1\n",
        "          Doc_frequency_t[word] =cnt\n",
        "      \n",
        "        for word,v in vocab.items():\n",
        "          vocab_idf1[word]=1+math.log((1+Total_number_of_documents)/(Doc_frequency_t[word]+1))\n",
        "        \n",
        "        #sort based on idf\n",
        "        vocab_idf_sorted=dict( sorted(vocab_idf1.items(), key=operator.itemgetter(1),reverse=True))\n",
        "        vocab_idf=dict(list(vocab_idf_sorted.items())[:max_features])\n",
        "        vocab1 = { your_key: vocab[your_key] for your_key in  vocab_idf.keys() }\n",
        "        print(vocab_idf_sorted)\n",
        "        return vocab1,vocab_idf\n",
        "\n",
        "    else:\n",
        "        print(\"you need to pass list of sentence\")"
      ],
      "execution_count": 17,
      "outputs": []
    },
    {
      "cell_type": "code",
      "metadata": {
        "colab": {
          "base_uri": "https://localhost:8080/"
        },
        "id": "VnuDDymskSNI",
        "outputId": "36a65d08-e819-42d1-84f3-d6a45ac78dbb"
      },
      "source": [
        "vocab,vocab_idf = fit1(corpus1,50)\n",
        "print()\n",
        "print(\"My code feature names\")\n",
        "print(list(vocab.keys()))"
      ],
      "execution_count": 18,
      "outputs": [
        {
          "output_type": "stream",
          "name": "stdout",
          "text": [
            "{'aailiyah': 6.922918004572872, 'abandoned': 6.922918004572872, 'abroad': 6.922918004572872, 'abstruse': 6.922918004572872, 'academy': 6.922918004572872, 'accents': 6.922918004572872, 'accessible': 6.922918004572872, 'acclaimed': 6.922918004572872, 'accolades': 6.922918004572872, 'accurately': 6.922918004572872, 'achille': 6.922918004572872, 'ackerman': 6.922918004572872, 'adams': 6.922918004572872, 'added': 6.922918004572872, 'admins': 6.922918004572872, 'admiration': 6.922918004572872, 'admitted': 6.922918004572872, 'adrift': 6.922918004572872, 'adventure': 6.922918004572872, 'aesthetically': 6.922918004572872, 'affected': 6.922918004572872, 'affleck': 6.922918004572872, 'afternoon': 6.922918004572872, 'agreed': 6.922918004572872, 'aimless': 6.922918004572872, 'aired': 6.922918004572872, 'akasha': 6.922918004572872, 'alert': 6.922918004572872, 'alike': 6.922918004572872, 'allison': 6.922918004572872, 'allowing': 6.922918004572872, 'alongside': 6.922918004572872, 'amateurish': 6.922918004572872, 'amazed': 6.922918004572872, 'amazingly': 6.922918004572872, 'amusing': 6.922918004572872, 'amust': 6.922918004572872, 'anatomist': 6.922918004572872, 'angela': 6.922918004572872, 'angelina': 6.922918004572872, 'angry': 6.922918004572872, 'anguish': 6.922918004572872, 'angus': 6.922918004572872, 'animals': 6.922918004572872, 'animated': 6.922918004572872, 'anita': 6.922918004572872, 'anniversary': 6.922918004572872, 'anthony': 6.922918004572872, 'antithesis': 6.922918004572872, 'anyway': 6.922918004572872, 'apart': 6.922918004572872, 'appears': 6.922918004572872, 'applauded': 6.922918004572872, 'applause': 6.922918004572872, 'argued': 6.922918004572872, 'armageddon': 6.922918004572872, 'armand': 6.922918004572872, 'array': 6.922918004572872, 'articulated': 6.922918004572872, 'artiness': 6.922918004572872, 'artistic': 6.922918004572872, 'artless': 6.922918004572872, 'aspects': 6.922918004572872, 'assante': 6.922918004572872, 'assaulted': 6.922918004572872, 'assistant': 6.922918004572872, 'astonishingly': 6.922918004572872, 'astronaut': 6.922918004572872, 'atmosphere': 6.922918004572872, 'atrocious': 6.922918004572872, 'atrocity': 6.922918004572872, 'attempted': 6.922918004572872, 'attempting': 6.922918004572872, 'attractive': 6.922918004572872, 'audio': 6.922918004572872, 'aurv': 6.922918004572872, 'austen': 6.922918004572872, 'austere': 6.922918004572872, 'author': 6.922918004572872, 'aversion': 6.922918004572872, 'avoided': 6.922918004572872, 'awarded': 6.922918004572872, 'awards': 6.922918004572872, 'awkwardly': 6.922918004572872, 'baaaaaad': 6.922918004572872, 'babbling': 6.922918004572872, 'babie': 6.922918004572872, 'babysitting': 6.922918004572872, 'backdrop': 6.922918004572872, 'backed': 6.922918004572872, 'bailey': 6.922918004572872, 'bakery': 6.922918004572872, 'ballet': 6.922918004572872, 'balls': 6.922918004572872, 'barcelona': 6.922918004572872, 'barking': 6.922918004572872, 'barney': 6.922918004572872, 'barren': 6.922918004572872, 'based': 6.922918004572872, 'bates': 6.922918004572872, 'baxendale': 6.922918004572872, 'bechard': 6.922918004572872, 'becomes': 6.922918004572872, 'behind': 6.922918004572872, 'behold': 6.922918004572872, 'bela': 6.922918004572872, 'believed': 6.922918004572872, 'bellucci': 6.922918004572872, 'belly': 6.922918004572872, 'belmondo': 6.922918004572872, 'bendingly': 6.922918004572872, 'bennett': 6.922918004572872, 'bergen': 6.922918004572872, 'bertolucci': 6.922918004572872, 'beware': 6.922918004572872, 'bible': 6.922918004572872, 'biggest': 6.922918004572872, 'biographical': 6.922918004572872, 'bipolarity': 6.922918004572872, 'bitchy': 6.922918004572872, 'blah': 6.922918004572872, 'blake': 6.922918004572872, 'blandly': 6.922918004572872, 'blare': 6.922918004572872, 'blatant': 6.922918004572872, 'blew': 6.922918004572872, 'blown': 6.922918004572872, 'blue': 6.922918004572872, 'blush': 6.922918004572872, 'boasts': 6.922918004572872, 'bob': 6.922918004572872, 'bohemian': 6.922918004572872, 'boiling': 6.922918004572872, 'bombardments': 6.922918004572872, 'bonding': 6.922918004572872, 'bonuses': 6.922918004572872, 'boobs': 6.922918004572872, 'boogeyman': 6.922918004572872, 'boost': 6.922918004572872, 'bop': 6.922918004572872, 'bordered': 6.922918004572872, 'borderlines': 6.922918004572872, 'borders': 6.922918004572872, 'borrowed': 6.922918004572872, 'boss': 6.922918004572872, 'bothersome': 6.922918004572872, 'box': 6.922918004572872, 'boyfriend': 6.922918004572872, 'boyle': 6.922918004572872, 'brainsucking': 6.922918004572872, 'breaking': 6.922918004572872, 'breeders': 6.922918004572872, 'brevity': 6.922918004572872, 'brigand': 6.922918004572872, 'bright': 6.922918004572872, 'brilliantly': 6.922918004572872, 'brings': 6.922918004572872, 'broke': 6.922918004572872, 'brooding': 6.922918004572872, 'brother': 6.922918004572872, 'brutal': 6.922918004572872, 'buddy': 6.922918004572872, 'buffalo': 6.922918004572872, 'buffet': 6.922918004572872, 'builders': 6.922918004572872, 'buildings': 6.922918004572872, 'built': 6.922918004572872, 'bully': 6.922918004572872, 'burton': 6.922918004572872, 'cailles': 6.922918004572872, 'california': 6.922918004572872, 'calls': 6.922918004572872, 'cameo': 6.922918004572872, 'camerawork': 6.922918004572872, 'campy': 6.922918004572872, 'cancan': 6.922918004572872, 'candace': 6.922918004572872, 'candle': 6.922918004572872, 'captain': 6.922918004572872, 'captured': 6.922918004572872, 'captures': 6.922918004572872, 'cardellini': 6.922918004572872, 'carol': 6.922918004572872, 'carrell': 6.922918004572872, 'carries': 6.922918004572872, 'carry': 6.922918004572872, 'cars': 6.922918004572872, 'cases': 6.922918004572872, 'casted': 6.922918004572872, 'catchy': 6.922918004572872, 'caught': 6.922918004572872, 'celebration': 6.922918004572872, 'celebrity': 6.922918004572872, 'celluloid': 6.922918004572872, 'centers': 6.922918004572872, 'cgi': 6.922918004572872, 'chalkboard': 6.922918004572872, 'challenges': 6.922918004572872, 'changes': 6.922918004572872, 'changing': 6.922918004572872, 'channel': 6.922918004572872, 'characterisation': 6.922918004572872, 'charismatic': 6.922918004572872, 'charlie': 6.922918004572872, 'chase': 6.922918004572872, 'chasing': 6.922918004572872, 'cheaply': 6.922918004572872, 'cheekbones': 6.922918004572872, 'cheerfull': 6.922918004572872, 'cheerless': 6.922918004572872, 'cheesiness': 6.922918004572872, 'childrens': 6.922918004572872, 'chills': 6.922918004572872, 'chilly': 6.922918004572872, 'chimp': 6.922918004572872, 'chodorov': 6.922918004572872, 'choice': 6.922918004572872, 'choices': 6.922918004572872, 'choked': 6.922918004572872, 'chosen': 6.922918004572872, 'chow': 6.922918004572872, 'christopher': 6.922918004572872, 'cinematic': 6.922918004572872, 'cinematographers': 6.922918004572872, 'circumstances': 6.922918004572872, 'classical': 6.922918004572872, 'cliche': 6.922918004572872, 'clients': 6.922918004572872, 'cliff': 6.922918004572872, 'climax': 6.922918004572872, 'closed': 6.922918004572872, 'clothes': 6.922918004572872, 'club': 6.922918004572872, 'coach': 6.922918004572872, 'coal': 6.922918004572872, 'coastal': 6.922918004572872, 'coaster': 6.922918004572872, 'coherent': 6.922918004572872, 'cold': 6.922918004572872, 'collective': 6.922918004572872, 'colored': 6.922918004572872, 'colorful': 6.922918004572872, 'colours': 6.922918004572872, 'columbo': 6.922918004572872, 'comedic': 6.922918004572872, 'comfortable': 6.922918004572872, 'comforting': 6.922918004572872, 'comical': 6.922918004572872, 'commands': 6.922918004572872, 'commentary': 6.922918004572872, 'commented': 6.922918004572872, 'comments': 6.922918004572872, 'commercial': 6.922918004572872, 'community': 6.922918004572872, 'company': 6.922918004572872, 'competent': 6.922918004572872, 'completed': 6.922918004572872, 'complexity': 6.922918004572872, 'composed': 6.922918004572872, 'compromise': 6.922918004572872, 'concentrate': 6.922918004572872, 'conception': 6.922918004572872, 'conceptually': 6.922918004572872, 'concerning': 6.922918004572872, 'concerns': 6.922918004572872, 'concert': 6.922918004572872, 'condescends': 6.922918004572872, 'confidence': 6.922918004572872, 'configuration': 6.922918004572872, 'confirm': 6.922918004572872, 'confuses': 6.922918004572872, 'confusing': 6.922918004572872, 'connections': 6.922918004572872, 'connor': 6.922918004572872, 'conrad': 6.922918004572872, 'consequences': 6.922918004572872, 'considerable': 6.922918004572872, 'considered': 6.922918004572872, 'considers': 6.922918004572872, 'consistent': 6.922918004572872, 'consolations': 6.922918004572872, 'constantine': 6.922918004572872, 'constructed': 6.922918004572872, 'containing': 6.922918004572872, 'content': 6.922918004572872, 'continually': 6.922918004572872, 'continuation': 6.922918004572872, 'continue': 6.922918004572872, 'continuously': 6.922918004572872, 'contract': 6.922918004572872, 'contributing': 6.922918004572872, 'contributory': 6.922918004572872, 'contrived': 6.922918004572872, 'controversy': 6.922918004572872, 'convention': 6.922918004572872, 'convey': 6.922918004572872, 'convince': 6.922918004572872, 'convoluted': 6.922918004572872, 'cords': 6.922918004572872, 'corny': 6.922918004572872, 'costumes': 6.922918004572872, 'cotton': 6.922918004572872, 'couple': 6.922918004572872, 'cowardice': 6.922918004572872, 'cox': 6.922918004572872, 'crackles': 6.922918004572872, 'crashed': 6.922918004572872, 'crayons': 6.922918004572872, 'creative': 6.922918004572872, 'creativity': 6.922918004572872, 'creature': 6.922918004572872, 'credits': 6.922918004572872, 'crew': 6.922918004572872, 'crime': 6.922918004572872, 'crisp': 6.922918004572872, 'critical': 6.922918004572872, 'crocdodile': 6.922918004572872, 'crocs': 6.922918004572872, 'cross': 6.922918004572872, 'crowe': 6.922918004572872, 'cruel': 6.922918004572872, 'cruise': 6.922918004572872, 'cry': 6.922918004572872, 'curtain': 6.922918004572872, 'custer': 6.922918004572872, 'cutest': 6.922918004572872, 'cutie': 6.922918004572872, 'cutouts': 6.922918004572872, 'cuts': 6.922918004572872, 'cutting': 6.922918004572872, 'dads': 6.922918004572872, 'damian': 6.922918004572872, 'damn': 6.922918004572872, 'darren': 6.922918004572872, 'daughters': 6.922918004572872, 'deadly': 6.922918004572872, 'deadpan': 6.922918004572872, 'dealt': 6.922918004572872, 'debated': 6.922918004572872, 'debbie': 6.922918004572872, 'debits': 6.922918004572872, 'debut': 6.922918004572872, 'decidely': 6.922918004572872, 'decipher': 6.922918004572872, 'decisions': 6.922918004572872, 'defensemen': 6.922918004572872, 'defined': 6.922918004572872, 'delete': 6.922918004572872, 'delightful': 6.922918004572872, 'delights': 6.922918004572872, 'delivered': 6.922918004572872, 'dependant': 6.922918004572872, 'depending': 6.922918004572872, 'depends': 6.922918004572872, 'depicted': 6.922918004572872, 'derivative': 6.922918004572872, 'describes': 6.922918004572872, 'desert': 6.922918004572872, 'designed': 6.922918004572872, 'designer': 6.922918004572872, 'desperately': 6.922918004572872, 'desperation': 6.922918004572872, 'despised': 6.922918004572872, 'destroy': 6.922918004572872, 'detailing': 6.922918004572872, 'details': 6.922918004572872, 'developments': 6.922918004572872, 'diabetic': 6.922918004572872, 'dialogs': 6.922918004572872, 'diaper': 6.922918004572872, 'dickens': 6.922918004572872, 'difference': 6.922918004572872, 'dignity': 6.922918004572872, 'dimensional': 6.922918004572872, 'directors': 6.922918004572872, 'disbelief': 6.922918004572872, 'discomfort': 6.922918004572872, 'discovery': 6.922918004572872, 'disgrace': 6.922918004572872, 'disgusting': 6.922918004572872, 'disney': 6.922918004572872, 'disparate': 6.922918004572872, 'distant': 6.922918004572872, 'distinction': 6.922918004572872, 'distorted': 6.922918004572872, 'distract': 6.922918004572872, 'distressed': 6.922918004572872, 'diving': 6.922918004572872, 'dodge': 6.922918004572872, 'dollars': 6.922918004572872, 'dominated': 6.922918004572872, 'donlevy': 6.922918004572872, 'dont': 6.922918004572872, 'doomed': 6.922918004572872, 'dose': 6.922918004572872, 'downs': 6.922918004572872, 'dozen': 6.922918004572872, 'dracula': 6.922918004572872, 'draft': 6.922918004572872, 'drawings': 6.922918004572872, 'drawn': 6.922918004572872, 'dreary': 6.922918004572872, 'dribble': 6.922918004572872, 'drifting': 6.922918004572872, 'drooling': 6.922918004572872, 'dropped': 6.922918004572872, 'dry': 6.922918004572872, 'dumbest': 6.922918004572872, 'duper': 6.922918004572872, 'duris': 6.922918004572872, 'dustin': 6.922918004572872, 'dwight': 6.922918004572872, 'dysfunction': 6.922918004572872, 'ebay': 6.922918004572872, 'ebola': 6.922918004572872, 'eccleston': 6.922918004572872, 'edition': 6.922918004572872, 'educational': 6.922918004572872, 'edward': 6.922918004572872, 'efforts': 6.922918004572872, 'egotism': 6.922918004572872, 'eighth': 6.922918004572872, 'eiko': 6.922918004572872, 'elaborately': 6.922918004572872, 'elderly': 6.922918004572872, 'elegant': 6.922918004572872, 'elias': 6.922918004572872, 'eloquently': 6.922918004572872, 'elsewhere': 6.922918004572872, 'embarrassed': 6.922918004572872, 'embassy': 6.922918004572872, 'emerge': 6.922918004572872, 'emoting': 6.922918004572872, 'emotionally': 6.922918004572872, 'emperor': 6.922918004572872, 'empowerment': 6.922918004572872, 'emptiness': 6.922918004572872, 'enchanting': 6.922918004572872, 'endearing': 6.922918004572872, 'endlessly': 6.922918004572872, 'energetic': 6.922918004572872, 'english': 6.922918004572872, 'enhanced': 6.922918004572872, 'enjoyment': 6.922918004572872, 'enterprise': 6.922918004572872, 'entertained': 6.922918004572872, 'entrance': 6.922918004572872, 'episodes': 6.922918004572872, 'equivalent': 6.922918004572872, 'errors': 6.922918004572872, 'escalating': 6.922918004572872, 'escapism': 6.922918004572872, 'essence': 6.922918004572872, 'established': 6.922918004572872, 'estate': 6.922918004572872, 'estevez': 6.922918004572872, 'evaluate': 6.922918004572872, 'events': 6.922918004572872, 'everybody': 6.922918004572872, 'everywhere': 6.922918004572872, 'evidently': 6.922918004572872, 'evinced': 6.922918004572872, 'evokes': 6.922918004572872, 'exaggerating': 6.922918004572872, 'exceptionally': 6.922918004572872, 'excerpts': 6.922918004572872, 'excessively': 6.922918004572872, 'exchange': 6.922918004572872, 'exciting': 6.922918004572872, 'excruciatingly': 6.922918004572872, 'excuses': 6.922918004572872, 'executed': 6.922918004572872, 'exemplars': 6.922918004572872, 'existential': 6.922918004572872, 'expansive': 6.922918004572872, 'expectations': 6.922918004572872, 'expected': 6.922918004572872, 'expecting': 6.922918004572872, 'experiences': 6.922918004572872, 'expert': 6.922918004572872, 'explains': 6.922918004572872, 'exploit': 6.922918004572872, 'explorations': 6.922918004572872, 'explosion': 6.922918004572872, 'expression': 6.922918004572872, 'extant': 6.922918004572872, 'exteriors': 6.922918004572872, 'extraneous': 6.922918004572872, 'extraordinary': 6.922918004572872, 'fabulous': 6.922918004572872, 'faces': 6.922918004572872, 'facial': 6.922918004572872, 'facing': 6.922918004572872, 'failed': 6.922918004572872, 'fairly': 6.922918004572872, 'falling': 6.922918004572872, 'falls': 6.922918004572872, 'falsely': 6.922918004572872, 'falwell': 6.922918004572872, 'famed': 6.922918004572872, 'famous': 6.922918004572872, 'fanciful': 6.922918004572872, 'fantasy': 6.922918004572872, 'farce': 6.922918004572872, 'fare': 6.922918004572872, 'fascinated': 6.922918004572872, 'fascination': 6.922918004572872, 'fashioned': 6.922918004572872, 'faster': 6.922918004572872, 'father': 6.922918004572872, 'faultless': 6.922918004572872, 'fausa': 6.922918004572872, 'favorite': 6.922918004572872, 'feelings': 6.922918004572872, 'feet': 6.922918004572872, 'feisty': 6.922918004572872, 'fellowes': 6.922918004572872, 'females': 6.922918004572872, 'ferry': 6.922918004572872, 'fest': 6.922918004572872, 'fields': 6.922918004572872, 'fifteen': 6.922918004572872, 'fifties': 6.922918004572872, 'filmiing': 6.922918004572872, 'filmmaker': 6.922918004572872, 'filmography': 6.922918004572872, 'finale': 6.922918004572872, 'financial': 6.922918004572872, 'finds': 6.922918004572872, 'finest': 6.922918004572872, 'fingernails': 6.922918004572872, 'finished': 6.922918004572872, 'fire': 6.922918004572872, 'fishnet': 6.922918004572872, 'fisted': 6.922918004572872, 'fit': 6.922918004572872, 'flag': 6.922918004572872, 'flakes': 6.922918004572872, 'flaming': 6.922918004572872, 'flashbacks': 6.922918004572872, 'fleshed': 6.922918004572872, 'flicks': 6.922918004572872, 'florida': 6.922918004572872, 'flowed': 6.922918004572872, 'flying': 6.922918004572872, 'fodder': 6.922918004572872, 'follows': 6.922918004572872, 'foolish': 6.922918004572872, 'football': 6.922918004572872, 'forced': 6.922918004572872, 'ford': 6.922918004572872, 'foreigner': 6.922918004572872, 'forever': 6.922918004572872, 'forgetting': 6.922918004572872, 'forgotten': 6.922918004572872, 'format': 6.922918004572872, 'former': 6.922918004572872, 'forth': 6.922918004572872, 'forwarded': 6.922918004572872, 'four': 6.922918004572872, 'foxx': 6.922918004572872, 'frances': 6.922918004572872, 'francis': 6.922918004572872, 'freeman': 6.922918004572872, 'freshness': 6.922918004572872, 'friendship': 6.922918004572872, 'frontier': 6.922918004572872, 'frost': 6.922918004572872, 'frustration': 6.922918004572872, 'fulfilling': 6.922918004572872, 'fumbling': 6.922918004572872, 'fundamental': 6.922918004572872, 'funniest': 6.922918004572872, 'gabriel': 6.922918004572872, 'gadget': 6.922918004572872, 'gain': 6.922918004572872, 'gake': 6.922918004572872, 'galley': 6.922918004572872, 'gallon': 6.922918004572872, 'garage': 6.922918004572872, 'garbo': 6.922918004572872, 'garfield': 6.922918004572872, 'gas': 6.922918004572872, 'gaudi': 6.922918004572872, 'gay': 6.922918004572872, 'geek': 6.922918004572872, 'generates': 6.922918004572872, 'generic': 6.922918004572872, 'gently': 6.922918004572872, 'george': 6.922918004572872, 'gerardo': 6.922918004572872, 'gere': 6.922918004572872, 'ghibili': 6.922918004572872, 'gibberish': 6.922918004572872, 'gifted': 6.922918004572872, 'giovanni': 6.922918004572872, 'girls': 6.922918004572872, 'girolamo': 6.922918004572872, 'giving': 6.922918004572872, 'glasses': 6.922918004572872, 'gloriously': 6.922918004572872, 'goalies': 6.922918004572872, 'gone': 6.922918004572872, 'goremeister': 6.922918004572872, 'gorman': 6.922918004572872, 'gosh': 6.922918004572872, 'goth': 6.922918004572872, 'gotta': 6.922918004572872, 'government': 6.922918004572872, 'grade': 6.922918004572872, 'gradually': 6.922918004572872, 'grainy': 6.922918004572872, 'granted': 6.922918004572872, 'graphics': 6.922918004572872, 'grasp': 6.922918004572872, 'grates': 6.922918004572872, 'greatness': 6.922918004572872, 'greenstreet': 6.922918004572872, 'grew': 6.922918004572872, 'grimes': 6.922918004572872, 'groove': 6.922918004572872, 'gross': 6.922918004572872, 'ground': 6.922918004572872, 'guards': 6.922918004572872, 'guests': 6.922918004572872, 'guilt': 6.922918004572872, 'gung': 6.922918004572872, 'guys': 6.922918004572872, 'haggis': 6.922918004572872, 'hairsplitting': 6.922918004572872, 'halfway': 6.922918004572872, 'handles': 6.922918004572872, 'hankies': 6.922918004572872, 'happiness': 6.922918004572872, 'happy': 6.922918004572872, 'harris': 6.922918004572872, 'hatred': 6.922918004572872, 'havilland': 6.922918004572872, 'hayao': 6.922918004572872, 'hayworth': 6.922918004572872, 'heads': 6.922918004572872, 'hearts': 6.922918004572872, 'heartwarming': 6.922918004572872, 'heche': 6.922918004572872, 'heels': 6.922918004572872, 'heist': 6.922918004572872, 'helen': 6.922918004572872, 'hellish': 6.922918004572872, 'helms': 6.922918004572872, 'helping': 6.922918004572872, 'hendrikson': 6.922918004572872, 'hernandez': 6.922918004572872, 'heroes': 6.922918004572872, 'heroine': 6.922918004572872, 'heroism': 6.922918004572872, 'hide': 6.922918004572872, 'higher': 6.922918004572872, 'highest': 6.922918004572872, 'highlights': 6.922918004572872, 'hilt': 6.922918004572872, 'hockey': 6.922918004572872, 'hoffman': 6.922918004572872, 'holding': 6.922918004572872, 'holds': 6.922918004572872, 'hollander': 6.922918004572872, 'homework': 6.922918004572872, 'honestly': 6.922918004572872, 'hopefully': 6.922918004572872, 'hopeless': 6.922918004572872, 'horrendously': 6.922918004572872, 'horrid': 6.922918004572872, 'horrified': 6.922918004572872, 'hosting': 6.922918004572872, 'houses': 6.922918004572872, 'howdy': 6.922918004572872, 'howell': 6.922918004572872, 'hugo': 6.922918004572872, 'humanity': 6.922918004572872, 'humans': 6.922918004572872, 'hummh': 6.922918004572872, 'hurt': 6.922918004572872, 'hype': 6.922918004572872, 'hypocrisy': 6.922918004572872, 'idealogical': 6.922918004572872, 'identified': 6.922918004572872, 'identifies': 6.922918004572872, 'idiotic': 6.922918004572872, 'idyllic': 6.922918004572872, 'imagine': 6.922918004572872, 'imdb': 6.922918004572872, 'impact': 6.922918004572872, 'imperial': 6.922918004572872, 'impossible': 6.922918004572872, 'impression': 6.922918004572872, 'improved': 6.922918004572872, 'improvement': 6.922918004572872, 'improvisation': 6.922918004572872, 'impulse': 6.922918004572872, 'inappropriate': 6.922918004572872, 'incendiary': 6.922918004572872, 'includes': 6.922918004572872, 'incomprehensible': 6.922918004572872, 'inconsistencies': 6.922918004572872, 'incorrectness': 6.922918004572872, 'indescribably': 6.922918004572872, 'indication': 6.922918004572872, 'indictment': 6.922918004572872, 'indie': 6.922918004572872, 'individual': 6.922918004572872, 'indoor': 6.922918004572872, 'ineptly': 6.922918004572872, 'inexperience': 6.922918004572872, 'inexplicable': 6.922918004572872, 'initially': 6.922918004572872, 'innocence': 6.922918004572872, 'insane': 6.922918004572872, 'inside': 6.922918004572872, 'insincere': 6.922918004572872, 'insipid': 6.922918004572872, 'insomniacs': 6.922918004572872, 'inspiration': 6.922918004572872, 'inspiring': 6.922918004572872, 'instant': 6.922918004572872, 'instruments': 6.922918004572872, 'insulin': 6.922918004572872, 'intangibles': 6.922918004572872, 'integral': 6.922918004572872, 'integration': 6.922918004572872, 'intense': 6.922918004572872, 'intensity': 6.922918004572872, 'intentions': 6.922918004572872, 'interacting': 6.922918004572872, 'interim': 6.922918004572872, 'interpretations': 6.922918004572872, 'interview': 6.922918004572872, 'intoning': 6.922918004572872, 'intrigued': 6.922918004572872, 'inventive': 6.922918004572872, 'involves': 6.922918004572872, 'involving': 6.922918004572872, 'ireland': 6.922918004572872, 'ironically': 6.922918004572872, 'ironside': 6.922918004572872, 'irritating': 6.922918004572872, 'ishioka': 6.922918004572872, 'istagey': 6.922918004572872, 'jack': 6.922918004572872, 'jaclyn': 6.922918004572872, 'japanese': 6.922918004572872, 'jason': 6.922918004572872, 'jay': 6.922918004572872, 'jealousy': 6.922918004572872, 'jennifer': 6.922918004572872, 'jerry': 6.922918004572872, 'jessica': 6.922918004572872, 'jessice': 6.922918004572872, 'jet': 6.922918004572872, 'joe': 6.922918004572872, 'joins': 6.922918004572872, 'jokes': 6.922918004572872, 'jones': 6.922918004572872, 'joyce': 6.922918004572872, 'juano': 6.922918004572872, 'judge': 6.922918004572872, 'judging': 6.922918004572872, 'judith': 6.922918004572872, 'judo': 6.922918004572872, 'julian': 6.922918004572872, 'junkyard': 6.922918004572872, 'justice': 6.922918004572872, 'jutland': 6.922918004572872, 'kanaly': 6.922918004572872, 'kathy': 6.922918004572872, 'keira': 6.922918004572872, 'keith': 6.922918004572872, 'kept': 6.922918004572872, 'kevin': 6.922918004572872, 'kidnapped': 6.922918004572872, 'kieslowski': 6.922918004572872, 'killings': 6.922918004572872, 'kirk': 6.922918004572872, 'kitchy': 6.922918004572872, 'knightley': 6.922918004572872, 'knocked': 6.922918004572872, 'knows': 6.922918004572872, 'koteas': 6.922918004572872, 'kris': 6.922918004572872, 'kristoffersen': 6.922918004572872, 'kudos': 6.922918004572872, 'labute': 6.922918004572872, 'ladies': 6.922918004572872, 'lady': 6.922918004572872, 'landscapes': 6.922918004572872, 'largely': 6.922918004572872, 'laselva': 6.922918004572872, 'lassie': 6.922918004572872, 'lasting': 6.922918004572872, 'latched': 6.922918004572872, 'later': 6.922918004572872, 'latest': 6.922918004572872, 'latifa': 6.922918004572872, 'latter': 6.922918004572872, 'laughed': 6.922918004572872, 'laughs': 6.922918004572872, 'leading': 6.922918004572872, 'leap': 6.922918004572872, 'leaving': 6.922918004572872, 'legal': 6.922918004572872, 'legendary': 6.922918004572872, 'leni': 6.922918004572872, 'lestat': 6.922918004572872, 'letting': 6.922918004572872, 'lewis': 6.922918004572872, 'lieutenant': 6.922918004572872, 'lifetime': 6.922918004572872, 'lilli': 6.922918004572872, 'lilt': 6.922918004572872, 'limitations': 6.922918004572872, 'limited': 6.922918004572872, 'linda': 6.922918004572872, 'linear': 6.922918004572872, 'lino': 6.922918004572872, 'littered': 6.922918004572872, 'lived': 6.922918004572872, 'local': 6.922918004572872, 'locations': 6.922918004572872, 'loewenhielm': 6.922918004572872, 'london': 6.922918004572872, 'longer': 6.922918004572872, 'loosely': 6.922918004572872, 'lovable': 6.922918004572872, 'loves': 6.922918004572872, 'lower': 6.922918004572872, 'loyalty': 6.922918004572872, 'lucio': 6.922918004572872, 'lugosi': 6.922918004572872, 'lust': 6.922918004572872, 'luv': 6.922918004572872, 'lyrics': 6.922918004572872, 'magnificent': 6.922918004572872, 'mainly': 6.922918004572872, 'major': 6.922918004572872, 'makers': 6.922918004572872, 'males': 6.922918004572872, 'malta': 6.922918004572872, 'managed': 6.922918004572872, 'manages': 6.922918004572872, 'manna': 6.922918004572872, 'mansonites': 6.922918004572872, 'marbles': 6.922918004572872, 'march': 6.922918004572872, 'marine': 6.922918004572872, 'marion': 6.922918004572872, 'marred': 6.922918004572872, 'marriage': 6.922918004572872, 'masculine': 6.922918004572872, 'masculinity': 6.922918004572872, 'massive': 6.922918004572872, 'matrix': 6.922918004572872, 'matthews': 6.922918004572872, 'mchattie': 6.922918004572872, 'mclaglen': 6.922918004572872, 'meagre': 6.922918004572872, 'meanders': 6.922918004572872, 'meanings': 6.922918004572872, 'meant': 6.922918004572872, 'medical': 6.922918004572872, 'meld': 6.922918004572872, 'melodrama': 6.922918004572872, 'melville': 6.922918004572872, 'members': 6.922918004572872, 'memorized': 6.922918004572872, 'menace': 6.922918004572872, 'menacing': 6.922918004572872, 'meredith': 6.922918004572872, 'merit': 6.922918004572872, 'mesmerising': 6.922918004572872, 'messages': 6.922918004572872, 'meteorite': 6.922918004572872, 'mexican': 6.922918004572872, 'michael': 6.922918004572872, 'microsoft': 6.922918004572872, 'middle': 6.922918004572872, 'mighty': 6.922918004572872, 'mindblowing': 6.922918004572872, 'miner': 6.922918004572872, 'minor': 6.922918004572872, 'mirrormask': 6.922918004572872, 'miserable': 6.922918004572872, 'miserably': 6.922918004572872, 'misplace': 6.922918004572872, 'mistakes': 6.922918004572872, 'modest': 6.922918004572872, 'mollusk': 6.922918004572872, 'momentum': 6.922918004572872, 'monica': 6.922918004572872, 'monolog': 6.922918004572872, 'monotonous': 6.922918004572872, 'monster': 6.922918004572872, 'monstrous': 6.922918004572872, 'monumental': 6.922918004572872, 'morons': 6.922918004572872, 'motivations': 6.922918004572872, 'mountain': 6.922918004572872, 'moved': 6.922918004572872, 'movements': 6.922918004572872, 'moves': 6.922918004572872, 'muddled': 6.922918004572872, 'muppets': 6.922918004572872, 'murdering': 6.922918004572872, 'murky': 6.922918004572872, 'musician': 6.922918004572872, 'mystifying': 6.922918004572872, 'naked': 6.922918004572872, 'narration': 6.922918004572872, 'nasty': 6.922918004572872, 'nationalities': 6.922918004572872, 'naughty': 6.922918004572872, 'nearly': 6.922918004572872, 'necklace': 6.922918004572872, 'needlessly': 6.922918004572872, 'negulesco': 6.922918004572872, 'neighbour': 6.922918004572872, 'nerves': 6.922918004572872, 'nervous': 6.922918004572872, 'netflix': 6.922918004572872, 'network': 6.922918004572872, 'nevertheless': 6.922918004572872, 'nevsky': 6.922918004572872, 'nicola': 6.922918004572872, 'nimoy': 6.922918004572872, 'nine': 6.922918004572872, 'noble': 6.922918004572872, 'nonetheless': 6.922918004572872, 'normally': 6.922918004572872, 'northern': 6.922918004572872, 'nostalgia': 6.922918004572872, 'notch': 6.922918004572872, 'novella': 6.922918004572872, 'numbers': 6.922918004572872, 'nun': 6.922918004572872, 'nuns': 6.922918004572872, 'nurse': 6.922918004572872, 'obliged': 6.922918004572872, 'obsessed': 6.922918004572872, 'occurs': 6.922918004572872, 'offend': 6.922918004572872, 'okay': 6.922918004572872, 'older': 6.922918004572872, 'olivia': 6.922918004572872, 'operas': 6.922918004572872, 'opinion': 6.922918004572872, 'ordeal': 6.922918004572872, 'oriented': 6.922918004572872, 'originality': 6.922918004572872, 'origins': 6.922918004572872, 'ortolani': 6.922918004572872, 'otherwise': 6.922918004572872, 'outlandish': 6.922918004572872, 'outlets': 6.922918004572872, 'outside': 6.922918004572872, 'outward': 6.922918004572872, 'overcome': 6.922918004572872, 'overdue': 6.922918004572872, 'overt': 6.922918004572872, 'overwrought': 6.922918004572872, 'owls': 6.922918004572872, 'pack': 6.922918004572872, 'painfully': 6.922918004572872, 'painted': 6.922918004572872, 'palance': 6.922918004572872, 'pandering': 6.922918004572872, 'paolo': 6.922918004572872, 'paper': 6.922918004572872, 'parker': 6.922918004572872, 'partaking': 6.922918004572872, 'passed': 6.922918004572872, 'passion': 6.922918004572872, 'patent': 6.922918004572872, 'patriotism': 6.922918004572872, 'pay': 6.922918004572872, 'pearls': 6.922918004572872, 'peculiarity': 6.922918004572872, 'pedestal': 6.922918004572872, 'pencil': 6.922918004572872, 'perabo': 6.922918004572872, 'perfected': 6.922918004572872, 'perplexing': 6.922918004572872, 'personalities': 6.922918004572872, 'personally': 6.922918004572872, 'phantasm': 6.922918004572872, 'phenomenal': 6.922918004572872, 'philippa': 6.922918004572872, 'phony': 6.922918004572872, 'phrase': 6.922918004572872, 'physical': 6.922918004572872, 'picked': 6.922918004572872, 'pile': 6.922918004572872, 'pillow': 6.922918004572872, 'pitch': 6.922918004572872, 'pixar': 6.922918004572872, 'plane': 6.922918004572872, 'planned': 6.922918004572872, 'plants': 6.922918004572872, 'players': 6.922918004572872, 'pleasing': 6.922918004572872, 'pledge': 6.922918004572872, 'plmer': 6.922918004572872, 'plug': 6.922918004572872, 'poignant': 6.922918004572872, 'pointillistic': 6.922918004572872, 'poised': 6.922918004572872, 'poler': 6.922918004572872, 'politically': 6.922918004572872, 'politics': 6.922918004572872, 'ponyo': 6.922918004572872, 'popcorn': 6.922918004572872, 'portrayals': 6.922918004572872, 'portrayed': 6.922918004572872, 'positive': 6.922918004572872, 'post': 6.922918004572872, 'potted': 6.922918004572872, 'powerful': 6.922918004572872, 'powerhouse': 6.922918004572872, 'practically': 6.922918004572872, 'pray': 6.922918004572872, 'precisely': 6.922918004572872, 'prejudice': 6.922918004572872, 'prelude': 6.922918004572872, 'prepared': 6.922918004572872, 'preservation': 6.922918004572872, 'president': 6.922918004572872, 'pretext': 6.922918004572872, 'primal': 6.922918004572872, 'primary': 6.922918004572872, 'producers': 6.922918004572872, 'professionals': 6.922918004572872, 'professor': 6.922918004572872, 'progresses': 6.922918004572872, 'promote': 6.922918004572872, 'prompted': 6.922918004572872, 'prone': 6.922918004572872, 'propaganda': 6.922918004572872, 'properly': 6.922918004572872, 'proudly': 6.922918004572872, 'provided': 6.922918004572872, 'provokes': 6.922918004572872, 'pseudo': 6.922918004572872, 'psychotic': 6.922918004572872, 'public': 6.922918004572872, 'pulling': 6.922918004572872, 'pulls': 6.922918004572872, 'punched': 6.922918004572872, 'punches': 6.922918004572872, 'punishment': 6.922918004572872, 'purity': 6.922918004572872, 'puzzle': 6.922918004572872, 'pyromaniac': 6.922918004572872, 'quaid': 6.922918004572872, 'qualities': 6.922918004572872, 'questioning': 6.922918004572872, 'quicker': 6.922918004572872, 'quiet': 6.922918004572872, 'radiant': 6.922918004572872, 'raging': 6.922918004572872, 'random': 6.922918004572872, 'rare': 6.922918004572872, 'raver': 6.922918004572872, 'readers': 6.922918004572872, 'realised': 6.922918004572872, 'realized': 6.922918004572872, 'reasonable': 6.922918004572872, 'reasons': 6.922918004572872, 'reconciliation': 6.922918004572872, 'recover': 6.922918004572872, 'recurring': 6.922918004572872, 'redeemed': 6.922918004572872, 'reenactments': 6.922918004572872, 'reflected': 6.922918004572872, 'refreshing': 6.922918004572872, 'regardless': 6.922918004572872, 'regrettable': 6.922918004572872, 'regrettably': 6.922918004572872, 'rejection': 6.922918004572872, 'related': 6.922918004572872, 'relatively': 6.922918004572872, 'relaxing': 6.922918004572872, 'relief': 6.922918004572872, 'relying': 6.922918004572872, 'reminded': 6.922918004572872, 'removing': 6.922918004572872, 'rendering': 6.922918004572872, 'rendition': 6.922918004572872, 'renowned': 6.922918004572872, 'repair': 6.922918004572872, 'repeated': 6.922918004572872, 'repeating': 6.922918004572872, 'repeats': 6.922918004572872, 'repertory': 6.922918004572872, 'reporter': 6.922918004572872, 'represents': 6.922918004572872, 'require': 6.922918004572872, 'rescue': 6.922918004572872, 'researched': 6.922918004572872, 'resounding': 6.922918004572872, 'respecting': 6.922918004572872, 'results': 6.922918004572872, 'resume': 6.922918004572872, 'retarded': 6.922918004572872, 'retreat': 6.922918004572872, 'revenge': 6.922918004572872, 'revere': 6.922918004572872, 'reverse': 6.922918004572872, 'reviewers': 6.922918004572872, 'reviews': 6.922918004572872, 'rice': 6.922918004572872, 'rickman': 6.922918004572872, 'ridiculousness': 6.922918004572872, 'rips': 6.922918004572872, 'rivalry': 6.922918004572872, 'riveted': 6.922918004572872, 'robotic': 6.922918004572872, 'rochon': 6.922918004572872, 'rocked': 6.922918004572872, 'rocks': 6.922918004572872, 'roeg': 6.922918004572872, 'roller': 6.922918004572872, 'rolls': 6.922918004572872, 'romantic': 6.922918004572872, 'roosevelt': 6.922918004572872, 'routine': 6.922918004572872, 'rpg': 6.922918004572872, 'rpger': 6.922918004572872, 'rubbish': 6.922918004572872, 'rubin': 6.922918004572872, 'rumbles': 6.922918004572872, 'ryans': 6.922918004572872, 'sabotages': 6.922918004572872, 'sack': 6.922918004572872, 'sacrifice': 6.922918004572872, 'sad': 6.922918004572872, 'salesman': 6.922918004572872, 'sample': 6.922918004572872, 'sappiest': 6.922918004572872, 'sarcophage': 6.922918004572872, 'satanic': 6.922918004572872, 'savalas': 6.922918004572872, 'savant': 6.922918004572872, 'save': 6.922918004572872, 'savor': 6.922918004572872, 'says': 6.922918004572872, 'scamp': 6.922918004572872, 'scares': 6.922918004572872, 'schilling': 6.922918004572872, 'schizophrenic': 6.922918004572872, 'schoolers': 6.922918004572872, 'schultz': 6.922918004572872, 'science': 6.922918004572872, 'scientist': 6.922918004572872, 'scot': 6.922918004572872, 'screamy': 6.922918004572872, 'screened': 6.922918004572872, 'screenplay': 6.922918004572872, 'scrimm': 6.922918004572872, 'scripted': 6.922918004572872, 'scripting': 6.922918004572872, 'scripts': 6.922918004572872, 'sculpture': 6.922918004572872, 'seamlessly': 6.922918004572872, 'sean': 6.922918004572872, 'seat': 6.922918004572872, 'secondary': 6.922918004572872, 'secondly': 6.922918004572872, 'selections': 6.922918004572872, 'sells': 6.922918004572872, 'semi': 6.922918004572872, 'senior': 6.922918004572872, 'sensibility': 6.922918004572872, 'sensitivities': 6.922918004572872, 'seperate': 6.922918004572872, 'sequels': 6.922918004572872, 'settings': 6.922918004572872, 'seuss': 6.922918004572872, 'sex': 6.922918004572872, 'shakespears': 6.922918004572872, 'shallow': 6.922918004572872, 'shameful': 6.922918004572872, 'sharing': 6.922918004572872, 'sharply': 6.922918004572872, 'shatner': 6.922918004572872, 'shattered': 6.922918004572872, 'sheer': 6.922918004572872, 'shelf': 6.922918004572872, 'shell': 6.922918004572872, 'shelves': 6.922918004572872, 'shenanigans': 6.922918004572872, 'shepard': 6.922918004572872, 'shined': 6.922918004572872, 'shirley': 6.922918004572872, 'shocking': 6.922918004572872, 'shooting': 6.922918004572872, 'shortlist': 6.922918004572872, 'showcasing': 6.922918004572872, 'shut': 6.922918004572872, 'sibling': 6.922918004572872, 'sidelined': 6.922918004572872, 'silly': 6.922918004572872, 'simmering': 6.922918004572872, 'simplifying': 6.922918004572872, 'sinister': 6.922918004572872, 'sinking': 6.922918004572872, 'sitcoms': 6.922918004572872, 'sites': 6.922918004572872, 'sits': 6.922918004572872, 'situations': 6.922918004572872, 'skilled': 6.922918004572872, 'skip': 6.922918004572872, 'slackers': 6.922918004572872, 'slavic': 6.922918004572872, 'slideshow': 6.922918004572872, 'slightly': 6.922918004572872, 'slimy': 6.922918004572872, 'sloppy': 6.922918004572872, 'slurs': 6.922918004572872, 'smack': 6.922918004572872, 'smells': 6.922918004572872, 'smiling': 6.922918004572872, 'smith': 6.922918004572872, 'smoothly': 6.922918004572872, 'snider': 6.922918004572872, 'snow': 6.922918004572872, 'soap': 6.922918004572872, 'sobering': 6.922918004572872, 'social': 6.922918004572872, 'soldiers': 6.922918004572872, 'sole': 6.922918004572872, 'solidifying': 6.922918004572872, 'solving': 6.922918004572872, 'soon': 6.922918004572872, 'sophisticated': 6.922918004572872, 'sorrentino': 6.922918004572872, 'sorry': 6.922918004572872, 'sounded': 6.922918004572872, 'sounds': 6.922918004572872, 'sour': 6.922918004572872, 'southern': 6.922918004572872, 'spacek': 6.922918004572872, 'spacey': 6.922918004572872, 'span': 6.922918004572872, 'speaking': 6.922918004572872, 'spend': 6.922918004572872, 'spew': 6.922918004572872, 'spiffy': 6.922918004572872, 'splendid': 6.922918004572872, 'spock': 6.922918004572872, 'spoiled': 6.922918004572872, 'spot': 6.922918004572872, 'spy': 6.922918004572872, 'squibs': 6.922918004572872, 'stable': 6.922918004572872, 'stagy': 6.922918004572872, 'standout': 6.922918004572872, 'starlet': 6.922918004572872, 'starring': 6.922918004572872, 'starts': 6.922918004572872, 'stayed': 6.922918004572872, 'stealing': 6.922918004572872, 'steamboat': 6.922918004572872, 'steele': 6.922918004572872, 'stephen': 6.922918004572872, 'stereotypically': 6.922918004572872, 'stewart': 6.922918004572872, 'stick': 6.922918004572872, 'stinker': 6.922918004572872, 'stinks': 6.922918004572872, 'stockings': 6.922918004572872, 'stoic': 6.922918004572872, 'storm': 6.922918004572872, 'storytelling': 6.922918004572872, 'stowe': 6.922918004572872, 'stranger': 6.922918004572872, 'stratus': 6.922918004572872, 'straw': 6.922918004572872, 'strident': 6.922918004572872, 'string': 6.922918004572872, 'strives': 6.922918004572872, 'strokes': 6.922918004572872, 'struck': 6.922918004572872, 'structure': 6.922918004572872, 'struggle': 6.922918004572872, 'stuart': 6.922918004572872, 'students': 6.922918004572872, 'study': 6.922918004572872, 'stuff': 6.922918004572872, 'stupidity': 6.922918004572872, 'stylized': 6.922918004572872, 'subject': 6.922918004572872, 'subjects': 6.922918004572872, 'sublimely': 6.922918004572872, 'subplots': 6.922918004572872, 'subtitles': 6.922918004572872, 'subversive': 6.922918004572872, 'subverting': 6.922918004572872, 'succeeded': 6.922918004572872, 'succeeds': 6.922918004572872, 'success': 6.922918004572872, 'sucks': 6.922918004572872, 'suffered': 6.922918004572872, 'suggests': 6.922918004572872, 'suited': 6.922918004572872, 'sundays': 6.922918004572872, 'superbad': 6.922918004572872, 'superficial': 6.922918004572872, 'superlative': 6.922918004572872, 'supernatural': 6.922918004572872, 'supporting': 6.922918004572872, 'surely': 6.922918004572872, 'surface': 6.922918004572872, 'surprised': 6.922918004572872, 'surprises': 6.922918004572872, 'surroundings': 6.922918004572872, 'survivors': 6.922918004572872, 'suspension': 6.922918004572872, 'sven': 6.922918004572872, 'swamp': 6.922918004572872, 'sweep': 6.922918004572872, 'sweet': 6.922918004572872, 'switched': 6.922918004572872, 'swords': 6.922918004572872, 'sydney': 6.922918004572872, 'sympathetic': 6.922918004572872, 'syrupy': 6.922918004572872, 'system': 6.922918004572872, 'tacky': 6.922918004572872, 'taelons': 6.922918004572872, 'taken': 6.922918004572872, 'talents': 6.922918004572872, 'tanks': 6.922918004572872, 'tardis': 6.922918004572872, 'task': 6.922918004572872, 'taste': 6.922918004572872, 'taxidermists': 6.922918004572872, 'teacher': 6.922918004572872, 'teaches': 6.922918004572872, 'tears': 6.922918004572872, 'technically': 6.922918004572872, 'teddy': 6.922918004572872, 'tedium': 6.922918004572872, 'teenagers': 6.922918004572872, 'teeth': 6.922918004572872, 'telephone': 6.922918004572872, 'television': 6.922918004572872, 'telly': 6.922918004572872, 'temperaments': 6.922918004572872, 'tender': 6.922918004572872, 'tensions': 6.922918004572872, 'terminology': 6.922918004572872, 'terror': 6.922918004572872, 'thanks': 6.922918004572872, 'theatres': 6.922918004572872, 'theatrical': 6.922918004572872, 'therapy': 6.922918004572872, 'thick': 6.922918004572872, 'thomerson': 6.922918004572872, 'thorsen': 6.922918004572872, 'thousand': 6.922918004572872, 'thread': 6.922918004572872, 'three': 6.922918004572872, 'threshold': 6.922918004572872, 'thrillers': 6.922918004572872, 'throwback': 6.922918004572872, 'thug': 6.922918004572872, 'thumper': 6.922918004572872, 'thunderbirds': 6.922918004572872, 'thus': 6.922918004572872, 'ticker': 6.922918004572872, 'tickets': 6.922918004572872, 'tightly': 6.922918004572872, 'timeless': 6.922918004572872, 'timely': 6.922918004572872, 'timers': 6.922918004572872, 'timing': 6.922918004572872, 'tiny': 6.922918004572872, 'tired': 6.922918004572872, 'titta': 6.922918004572872, 'tolerable': 6.922918004572872, 'tolerate': 6.922918004572872, 'tomorrow': 6.922918004572872, 'tongue': 6.922918004572872, 'tonight': 6.922918004572872, 'tons': 6.922918004572872, 'tony': 6.922918004572872, 'tops': 6.922918004572872, 'tortured': 6.922918004572872, 'touches': 6.922918004572872, 'tough': 6.922918004572872, 'towers': 6.922918004572872, 'townsend': 6.922918004572872, 'traditional': 6.922918004572872, 'traffic': 6.922918004572872, 'trailer': 6.922918004572872, 'tranquillity': 6.922918004572872, 'transcend': 6.922918004572872, 'transfers': 6.922918004572872, 'translate': 6.922918004572872, 'translating': 6.922918004572872, 'trap': 6.922918004572872, 'trashy': 6.922918004572872, 'treachery': 6.922918004572872, 'treasure': 6.922918004572872, 'treatments': 6.922918004572872, 'trek': 6.922918004572872, 'tries': 6.922918004572872, 'trilogy': 6.922918004572872, 'trinity': 6.922918004572872, 'trip': 6.922918004572872, 'triumphed': 6.922918004572872, 'trond': 6.922918004572872, 'trooper': 6.922918004572872, 'trouble': 6.922918004572872, 'trumbull': 6.922918004572872, 'trumpeter': 6.922918004572872, 'truth': 6.922918004572872, 'trysts': 6.922918004572872, 'tsunami': 6.922918004572872, 'tuneful': 6.922918004572872, 'turkey': 6.922918004572872, 'twirling': 6.922918004572872, 'twists': 6.922918004572872, 'tying': 6.922918004572872, 'ugliest': 6.922918004572872, 'ugly': 6.922918004572872, 'uhura': 6.922918004572872, 'ultra': 6.922918004572872, 'unaccompanied': 6.922918004572872, 'unbearable': 6.922918004572872, 'unbearably': 6.922918004572872, 'uncalled': 6.922918004572872, 'unconditional': 6.922918004572872, 'underacting': 6.922918004572872, 'underappreciated': 6.922918004572872, 'underbite': 6.922918004572872, 'underlines': 6.922918004572872, 'underrated': 6.922918004572872, 'understanding': 6.922918004572872, 'understatement': 6.922918004572872, 'understood': 6.922918004572872, 'undertone': 6.922918004572872, 'underwater': 6.922918004572872, 'uneasy': 6.922918004572872, 'unemployed': 6.922918004572872, 'unethical': 6.922918004572872, 'unfaithful': 6.922918004572872, 'unforgettable': 6.922918004572872, 'unintentionally': 6.922918004572872, 'union': 6.922918004572872, 'uniqueness': 6.922918004572872, 'universal': 6.922918004572872, 'universe': 6.922918004572872, 'unless': 6.922918004572872, 'unlockable': 6.922918004572872, 'unmatched': 6.922918004572872, 'unmitigated': 6.922918004572872, 'unmoving': 6.922918004572872, 'unnecessary': 6.922918004572872, 'unneeded': 6.922918004572872, 'unoriginal': 6.922918004572872, 'unpleasant': 6.922918004572872, 'unpredictability': 6.922918004572872, 'unrealistic': 6.922918004572872, 'unrecommended': 6.922918004572872, 'unremarkable': 6.922918004572872, 'unrestrained': 6.922918004572872, 'unsatisfactory': 6.922918004572872, 'unwatchable': 6.922918004572872, 'upa': 6.922918004572872, 'upper': 6.922918004572872, 'uptight': 6.922918004572872, 'ursula': 6.922918004572872, 'user': 6.922918004572872, 'ussr': 6.922918004572872, 'valentine': 6.922918004572872, 'vampire': 6.922918004572872, 'vandiver': 6.922918004572872, 'variation': 6.922918004572872, 'vehicles': 6.922918004572872, 'ventura': 6.922918004572872, 'verbal': 6.922918004572872, 'verbatim': 6.922918004572872, 'versatile': 6.922918004572872, 'versus': 6.922918004572872, 'vessel': 6.922918004572872, 'veteran': 6.922918004572872, 'vibe': 6.922918004572872, 'victor': 6.922918004572872, 'villains': 6.922918004572872, 'violence': 6.922918004572872, 'violin': 6.922918004572872, 'virtue': 6.922918004572872, 'virus': 6.922918004572872, 'vitally': 6.922918004572872, 'vivian': 6.922918004572872, 'vivid': 6.922918004572872, 'vocal': 6.922918004572872, 'volatile': 6.922918004572872, 'vomited': 6.922918004572872, 'voyage': 6.922918004572872, 'vulcan': 6.922918004572872, 'waiting': 6.922918004572872, 'waitress': 6.922918004572872, 'wanting': 6.922918004572872, 'wants': 6.922918004572872, 'warning': 6.922918004572872, 'wartime': 6.922918004572872, 'warts': 6.922918004572872, 'washed': 6.922918004572872, 'washing': 6.922918004572872, 'waster': 6.922918004572872, 'wasting': 6.922918004572872, 'wave': 6.922918004572872, 'waylaid': 6.922918004572872, 'wayne': 6.922918004572872, 'weaker': 6.922918004572872, 'weariness': 6.922918004572872, 'weaving': 6.922918004572872, 'website': 6.922918004572872, 'wedding': 6.922918004572872, 'weight': 6.922918004572872, 'welsh': 6.922918004572872, 'went': 6.922918004572872, 'whenever': 6.922918004572872, 'whine': 6.922918004572872, 'whites': 6.922918004572872, 'whoever': 6.922918004572872, 'wide': 6.922918004572872, 'widmark': 6.922918004572872, 'wife': 6.922918004572872, 'wih': 6.922918004572872, 'wild': 6.922918004572872, 'william': 6.922918004572872, 'willie': 6.922918004572872, 'wily': 6.922918004572872, 'within': 6.922918004572872, 'witticisms': 6.922918004572872, 'woa': 6.922918004572872, 'wondered': 6.922918004572872, 'wong': 6.922918004572872, 'wont': 6.922918004572872, 'worked': 6.922918004572872, 'worry': 6.922918004572872, 'worthless': 6.922918004572872, 'worthwhile': 6.922918004572872, 'wouldnt': 6.922918004572872, 'woven': 6.922918004572872, 'wow': 6.922918004572872, 'wrap': 6.922918004572872, 'writers': 6.922918004572872, 'wrote': 6.922918004572872, 'yardley': 6.922918004572872, 'yawn': 6.922918004572872, 'yelps': 6.922918004572872, 'younger': 6.922918004572872, 'youthful': 6.922918004572872, 'youtube': 6.922918004572872, 'yun': 6.922918004572872, 'zillion': 6.922918004572872, 'zombiez': 6.922918004572872, 'abysmal': 6.517452896464707, 'accurate': 6.517452896464707, 'accused': 6.517452896464707, 'achievement': 6.517452896464707, 'adaptation': 6.517452896464707, 'advise': 6.517452896464707, 'afraid': 6.517452896464707, 'africa': 6.517452896464707, 'agree': 6.517452896464707, 'alexander': 6.517452896464707, 'amaze': 6.517452896464707, 'americans': 6.517452896464707, 'among': 6.517452896464707, 'angeles': 6.517452896464707, 'angles': 6.517452896464707, 'animation': 6.517452896464707, 'appalling': 6.517452896464707, 'appealing': 6.517452896464707, 'appropriate': 6.517452896464707, 'aside': 6.517452896464707, 'asleep': 6.517452896464707, 'attempts': 6.517452896464707, 'attention': 6.517452896464707, 'baby': 6.517452896464707, 'badly': 6.517452896464707, 'balanced': 6.517452896464707, 'band': 6.517452896464707, 'basically': 6.517452896464707, 'beautifully': 6.517452896464707, 'became': 6.517452896464707, 'began': 6.517452896464707, 'betty': 6.517452896464707, 'bland': 6.517452896464707, 'blood': 6.517452896464707, 'bold': 6.517452896464707, 'bond': 6.517452896464707, 'bonus': 6.517452896464707, 'brat': 6.517452896464707, 'brian': 6.517452896464707, 'brief': 6.517452896464707, 'broad': 6.517452896464707, 'bullock': 6.517452896464707, 'bunch': 6.517452896464707, 'business': 6.517452896464707, 'buy': 6.517452896464707, 'cable': 6.517452896464707, 'canada': 6.517452896464707, 'cannot': 6.517452896464707, 'cardboard': 6.517452896464707, 'cartoons': 6.517452896464707, 'cause': 6.517452896464707, 'ceases': 6.517452896464707, 'central': 6.517452896464707, 'century': 6.517452896464707, 'cg': 6.517452896464707, 'chance': 6.517452896464707, 'charles': 6.517452896464707, 'cheek': 6.517452896464707, 'cheesy': 6.517452896464707, 'chick': 6.517452896464707, 'childhood': 6.517452896464707, 'christmas': 6.517452896464707, 'church': 6.517452896464707, 'clearly': 6.517452896464707, 'cole': 6.517452896464707, 'collect': 6.517452896464707, 'compelling': 6.517452896464707, 'composition': 6.517452896464707, 'comprehensible': 6.517452896464707, 'computer': 6.517452896464707, 'connery': 6.517452896464707, 'considering': 6.517452896464707, 'constant': 6.517452896464707, 'contained': 6.517452896464707, 'contains': 6.517452896464707, 'continuity': 6.517452896464707, 'contrast': 6.517452896464707, 'control': 6.517452896464707, 'coppola': 6.517452896464707, 'correct': 6.517452896464707, 'courtroom': 6.517452896464707, 'crafted': 6.517452896464707, 'crash': 6.517452896464707, 'crayon': 6.517452896464707, 'crazy': 6.517452896464707, 'creates': 6.517452896464707, 'critic': 6.517452896464707, 'crowd': 6.517452896464707, 'culture': 6.517452896464707, 'dancing': 6.517452896464707, 'dangerous': 6.517452896464707, 'dark': 6.517452896464707, 'days': 6.517452896464707, 'decay': 6.517452896464707, 'dedication': 6.517452896464707, 'deeply': 6.517452896464707, 'delivering': 6.517452896464707, 'depicts': 6.517452896464707, 'depressing': 6.517452896464707, 'deserved': 6.517452896464707, 'deserves': 6.517452896464707, 'deserving': 6.517452896464707, 'despite': 6.517452896464707, 'develop': 6.517452896464707, 'development': 6.517452896464707, 'directorial': 6.517452896464707, 'disappointing': 6.517452896464707, 'disappointment': 6.517452896464707, 'disaster': 6.517452896464707, 'discovering': 6.517452896464707, 'disliked': 6.517452896464707, 'disturbing': 6.517452896464707, 'doctor': 6.517452896464707, 'documentaries': 6.517452896464707, 'dogs': 6.517452896464707, 'dramatic': 6.517452896464707, 'dreams': 6.517452896464707, 'duet': 6.517452896464707, 'dull': 6.517452896464707, 'earth': 6.517452896464707, 'eating': 6.517452896464707, 'effort': 6.517452896464707, 'element': 6.517452896464707, 'emilio': 6.517452896464707, 'emily': 6.517452896464707, 'emotions': 6.517452896464707, 'empty': 6.517452896464707, 'engaging': 6.517452896464707, 'entirely': 6.517452896464707, 'errol': 6.517452896464707, 'establish': 6.517452896464707, 'european': 6.517452896464707, 'evil': 6.517452896464707, 'excellently': 6.517452896464707, 'excuse': 6.517452896464707, 'existent': 6.517452896464707, 'explanation': 6.517452896464707, 'exquisite': 6.517452896464707, 'extremely': 6.517452896464707, 'factory': 6.517452896464707, 'fair': 6.517452896464707, 'faithful': 6.517452896464707, 'fame': 6.517452896464707, 'fascinating': 6.517452896464707, 'fill': 6.517452896464707, 'filmed': 6.517452896464707, 'fish': 6.517452896464707, 'five': 6.517452896464707, 'flat': 6.517452896464707, 'flawed': 6.517452896464707, 'flaws': 6.517452896464707, 'flynn': 6.517452896464707, 'focus': 6.517452896464707, 'following': 6.517452896464707, 'forces': 6.517452896464707, 'foreign': 6.517452896464707, 'forgettable': 6.517452896464707, 'forgot': 6.517452896464707, 'frankly': 6.517452896464707, 'freedom': 6.517452896464707, 'french': 6.517452896464707, 'fulci': 6.517452896464707, 'function': 6.517452896464707, 'future': 6.517452896464707, 'fx': 6.517452896464707, 'genius': 6.517452896464707, 'genre': 6.517452896464707, 'getting': 6.517452896464707, 'girlfriend': 6.517452896464707, 'glance': 6.517452896464707, 'goes': 6.517452896464707, 'gonna': 6.517452896464707, 'gore': 6.517452896464707, 'gotten': 6.517452896464707, 'green': 6.517452896464707, 'grim': 6.517452896464707, 'gripping': 6.517452896464707, 'hackneyed': 6.517452896464707, 'hair': 6.517452896464707, 'handled': 6.517452896464707, 'hands': 6.517452896464707, 'hanks': 6.517452896464707, 'hated': 6.517452896464707, 'hbo': 6.517452896464707, 'heard': 6.517452896464707, 'heaven': 6.517452896464707, 'helps': 6.517452896464707, 'hence': 6.517452896464707, 'hollow': 6.517452896464707, 'hollywood': 6.517452896464707, 'honest': 6.517452896464707, 'hoot': 6.517452896464707, 'horrendous': 6.517452896464707, 'horse': 6.517452896464707, 'humorous': 6.517452896464707, 'humour': 6.517452896464707, 'identify': 6.517452896464707, 'iffy': 6.517452896464707, 'imaginable': 6.517452896464707, 'imaginative': 6.517452896464707, 'imitation': 6.517452896464707, 'implausible': 6.517452896464707, 'important': 6.517452896464707, 'impressed': 6.517452896464707, 'impressive': 6.517452896464707, 'industry': 6.517452896464707, 'instead': 6.517452896464707, 'interested': 6.517452896464707, 'interplay': 6.517452896464707, 'irons': 6.517452896464707, 'issues': 6.517452896464707, 'italian': 6.517452896464707, 'jamie': 6.517452896464707, 'jean': 6.517452896464707, 'jerky': 6.517452896464707, 'jimmy': 6.517452896464707, 'jobs': 6.517452896464707, 'jonah': 6.517452896464707, 'journey': 6.517452896464707, 'june': 6.517452896464707, 'junk': 6.517452896464707, 'keeps': 6.517452896464707, 'killer': 6.517452896464707, 'kinda': 6.517452896464707, 'known': 6.517452896464707, 'lacked': 6.517452896464707, 'lange': 6.517452896464707, 'layers': 6.517452896464707, 'lazy': 6.517452896464707, 'leaves': 6.517452896464707, 'length': 6.517452896464707, 'lesser': 6.517452896464707, 'lets': 6.517452896464707, 'levels': 6.517452896464707, 'lighting': 6.517452896464707, 'likes': 6.517452896464707, 'literally': 6.517452896464707, 'lives': 6.517452896464707, 'loads': 6.517452896464707, 'loneliness': 6.517452896464707, 'loose': 6.517452896464707, 'lord': 6.517452896464707, 'losing': 6.517452896464707, 'lucy': 6.517452896464707, 'macbeth': 6.517452896464707, 'machine': 6.517452896464707, 'martin': 6.517452896464707, 'masterful': 6.517452896464707, 'masterpieces': 6.517452896464707, 'material': 6.517452896464707, 'matter': 6.517452896464707, 'mercy': 6.517452896464707, 'mini': 6.517452896464707, 'mishima': 6.517452896464707, 'missed': 6.517452896464707, 'modern': 6.517452896464707, 'moments': 6.517452896464707, 'moral': 6.517452896464707, 'morgan': 6.517452896464707, 'mother': 6.517452896464707, 'mouse': 6.517452896464707, 'mouth': 6.517452896464707, 'murdered': 6.517452896464707, 'national': 6.517452896464707, 'nature': 6.517452896464707, 'neil': 6.517452896464707, 'noir': 6.517452896464707, 'notable': 6.517452896464707, 'noteworthy': 6.517452896464707, 'number': 6.517452896464707, 'nuts': 6.517452896464707, 'occupied': 6.517452896464707, 'occur': 6.517452896464707, 'offensive': 6.517452896464707, 'olde': 6.517452896464707, 'opened': 6.517452896464707, 'opening': 6.517452896464707, 'others': 6.517452896464707, 'overacting': 6.517452896464707, 'overly': 6.517452896464707, 'overs': 6.517452896464707, 'owned': 6.517452896464707, 'pacing': 6.517452896464707, 'paid': 6.517452896464707, 'paint': 6.517452896464707, 'pair': 6.517452896464707, 'pans': 6.517452896464707, 'pap': 6.517452896464707, 'parents': 6.517452896464707, 'park': 6.517452896464707, 'past': 6.517452896464707, 'peaking': 6.517452896464707, 'pg': 6.517452896464707, 'pictures': 6.517452896464707, 'pitiful': 6.517452896464707, 'pleasant': 6.517452896464707, 'pleased': 6.517452896464707, 'pleaser': 6.517452896464707, 'plenty': 6.517452896464707, 'poetry': 6.517452896464707, 'political': 6.517452896464707, 'poorly': 6.517452896464707, 'popular': 6.517452896464707, 'portraying': 6.517452896464707, 'practical': 6.517452896464707, 'predictably': 6.517452896464707, 'presence': 6.517452896464707, 'previous': 6.517452896464707, 'proceedings': 6.517452896464707, 'process': 6.517452896464707, 'producer': 6.517452896464707, 'psychological': 6.517452896464707, 'punish': 6.517452896464707, 'puppet': 6.517452896464707, 'puppets': 6.517452896464707, 'putting': 6.517452896464707, 'quick': 6.517452896464707, 'quinn': 6.517452896464707, 'racial': 6.517452896464707, 'racism': 6.517452896464707, 'ratings': 6.517452896464707, 'reactions': 6.517452896464707, 'reading': 6.517452896464707, 'reality': 6.517452896464707, 'realize': 6.517452896464707, 'received': 6.517452896464707, 'recently': 6.517452896464707, 'redeeming': 6.517452896464707, 'references': 6.517452896464707, 'relate': 6.517452896464707, 'relationships': 6.517452896464707, 'remaining': 6.517452896464707, 'remarkable': 6.517452896464707, 'remotely': 6.517452896464707, 'restrained': 6.517452896464707, 'return': 6.517452896464707, 'revealing': 6.517452896464707, 'riot': 6.517452896464707, 'rita': 6.517452896464707, 'riz': 6.517452896464707, 'robert': 6.517452896464707, 'roth': 6.517452896464707, 'running': 6.517452896464707, 'ruthless': 6.517452896464707, 'ryan': 6.517452896464707, 'sake': 6.517452896464707, 'sam': 6.517452896464707, 'sandra': 6.517452896464707, 'scary': 6.517452896464707, 'school': 6.517452896464707, 'schrader': 6.517452896464707, 'scream': 6.517452896464707, 'seamless': 6.517452896464707, 'season': 6.517452896464707, 'senses': 6.517452896464707, 'sentiment': 6.517452896464707, 'sequences': 6.517452896464707, 'several': 6.517452896464707, 'shakespear': 6.517452896464707, 'sick': 6.517452896464707, 'significant': 6.517452896464707, 'sincere': 6.517452896464707, 'sink': 6.517452896464707, 'sisters': 6.517452896464707, 'slightest': 6.517452896464707, 'smile': 6.517452896464707, 'somewhat': 6.517452896464707, 'soul': 6.517452896464707, 'speed': 6.517452896464707, 'sphere': 6.517452896464707, 'stage': 6.517452896464707, 'stereotypes': 6.517452896464707, 'stocking': 6.517452896464707, 'store': 6.517452896464707, 'strange': 6.517452896464707, 'street': 6.517452896464707, 'student': 6.517452896464707, 'studio': 6.517452896464707, 'stunning': 6.517452896464707, 'suffering': 6.517452896464707, 'suggest': 6.517452896464707, 'summary': 6.517452896464707, 'superbly': 6.517452896464707, 'supposedly': 6.517452896464707, 'surf': 6.517452896464707, 'taped': 6.517452896464707, 'taylor': 6.517452896464707, 'team': 6.517452896464707, 'tear': 6.517452896464707, 'terms': 6.517452896464707, 'terribly': 6.517452896464707, 'theatre': 6.517452896464707, 'themes': 6.517452896464707, 'thoughts': 6.517452896464707, 'thrilled': 6.517452896464707, 'title': 6.517452896464707, 'tone': 6.517452896464707, 'took': 6.517452896464707, 'toons': 6.517452896464707, 'towards': 6.517452896464707, 'train': 6.517452896464707, 'tremendously': 6.517452896464707, 'truck': 6.517452896464707, 'turned': 6.517452896464707, 'turns': 6.517452896464707, 'twice': 6.517452896464707, 'typical': 6.517452896464707, 'underlying': 6.517452896464707, 'underneath': 6.517452896464707, 'understated': 6.517452896464707, 'undoubtedly': 6.517452896464707, 'unfolds': 6.517452896464707, 'unfunny': 6.517452896464707, 'uninteresting': 6.517452896464707, 'unique': 6.517452896464707, 'unpredictable': 6.517452896464707, 'unrecognizable': 6.517452896464707, 'uplifting': 6.517452896464707, 'version': 6.517452896464707, 'vey': 6.517452896464707, 'video': 6.517452896464707, 'viewing': 6.517452896464707, 'views': 6.517452896464707, 'villain': 6.517452896464707, 'vision': 6.517452896464707, 'visually': 6.517452896464707, 'voice': 6.517452896464707, 'volcano': 6.517452896464707, 'walked': 6.517452896464707, 'wall': 6.517452896464707, 'wanted': 6.517452896464707, 'warmth': 6.517452896464707, 'warn': 6.517452896464707, 'water': 6.517452896464707, 'watkins': 6.517452896464707, 'watson': 6.517452896464707, 'wb': 6.517452896464707, 'weird': 6.517452896464707, 'whiny': 6.517452896464707, 'wholesome': 6.517452896464707, 'wise': 6.517452896464707, 'witty': 6.517452896464707, 'wooden': 6.517452896464707, 'working': 6.517452896464707, 'yeah': 6.517452896464707, 'ability': 6.229770824012927, 'acted': 6.229770824012927, 'actions': 6.229770824012927, 'actresses': 6.229770824012927, 'addition': 6.229770824012927, 'aerial': 6.229770824012927, 'aged': 6.229770824012927, 'ages': 6.229770824012927, 'allow': 6.229770824012927, 'although': 6.229770824012927, 'angle': 6.229770824012927, 'appearance': 6.229770824012927, 'artist': 6.229770824012927, 'aspect': 6.229770824012927, 'average': 6.229770824012927, 'award': 6.229770824012927, 'awesome': 6.229770824012927, 'basic': 6.229770824012927, 'bell': 6.229770824012927, 'ben': 6.229770824012927, 'billy': 6.229770824012927, 'bother': 6.229770824012927, 'bought': 6.229770824012927, 'brain': 6.229770824012927, 'brilliance': 6.229770824012927, 'bring': 6.229770824012927, 'build': 6.229770824012927, 'camp': 6.229770824012927, 'cant': 6.229770824012927, 'case': 6.229770824012927, 'charisma': 6.229770824012927, 'charming': 6.229770824012927, 'checking': 6.229770824012927, 'clear': 6.229770824012927, 'coming': 6.229770824012927, 'complex': 6.229770824012927, 'conclusion': 6.229770824012927, 'conflict': 6.229770824012927, 'corn': 6.229770824012927, 'costs': 6.229770824012927, 'course': 6.229770824012927, 'court': 6.229770824012927, 'credit': 6.229770824012927, 'daughter': 6.229770824012927, 'decent': 6.229770824012927, 'deep': 6.229770824012927, 'delivers': 6.229770824012927, 'describe': 6.229770824012927, 'design': 6.229770824012927, 'directed': 6.229770824012927, 'documentary': 6.229770824012927, 'doubt': 6.229770824012927, 'drago': 6.229770824012927, 'dream': 6.229770824012927, 'drift': 6.229770824012927, 'drive': 6.229770824012927, 'dumb': 6.229770824012927, 'dvd': 6.229770824012927, 'earlier': 6.229770824012927, 'easily': 6.229770824012927, 'edge': 6.229770824012927, 'effective': 6.229770824012927, 'either': 6.229770824012927, 'embarrassing': 6.229770824012927, 'enjoyable': 6.229770824012927, 'etc': 6.229770824012927, 'exactly': 6.229770824012927, 'example': 6.229770824012927, 'exceptional': 6.229770824012927, 'explain': 6.229770824012927, 'fantastic': 6.229770824012927, 'fat': 6.229770824012927, 'faux': 6.229770824012927, 'favourite': 6.229770824012927, 'fear': 6.229770824012927, 'features': 6.229770824012927, 'female': 6.229770824012927, 'finally': 6.229770824012927, 'footage': 6.229770824012927, 'fox': 6.229770824012927, 'friends': 6.229770824012927, 'frightening': 6.229770824012927, 'front': 6.229770824012927, 'games': 6.229770824012927, 'gem': 6.229770824012927, 'genuine': 6.229770824012927, 'giallo': 6.229770824012927, 'given': 6.229770824012927, 'glad': 6.229770824012927, 'greatest': 6.229770824012927, 'guy': 6.229770824012927, 'happened': 6.229770824012927, 'hay': 6.229770824012927, 'hitchcock': 6.229770824012927, 'hours': 6.229770824012927, 'humor': 6.229770824012927, 'huston': 6.229770824012927, 'idiot': 6.229770824012927, 'including': 6.229770824012927, 'incredibly': 6.229770824012927, 'indulgent': 6.229770824012927, 'iq': 6.229770824012927, 'issue': 6.229770824012927, 'jim': 6.229770824012927, 'joke': 6.229770824012927, 'killing': 6.229770824012927, 'knew': 6.229770824012927, 'lane': 6.229770824012927, 'latin': 6.229770824012927, 'laughable': 6.229770824012927, 'learn': 6.229770824012927, 'left': 6.229770824012927, 'lies': 6.229770824012927, 'living': 6.229770824012927, 'location': 6.229770824012927, 'logic': 6.229770824012927, 'looking': 6.229770824012927, 'looks': 6.229770824012927, 'lousy': 6.229770824012927, 'maker': 6.229770824012927, 'masterpiece': 6.229770824012927, 'mature': 6.229770824012927, 'memories': 6.229770824012927, 'might': 6.229770824012927, 'miss': 6.229770824012927, 'miyazaki': 6.229770824012927, 'narrative': 6.229770824012927, 'native': 6.229770824012927, 'natural': 6.229770824012927, 'needed': 6.229770824012927, 'negative': 6.229770824012927, 'next': 6.229770824012927, 'nobody': 6.229770824012927, 'none': 6.229770824012927, 'nonsense': 6.229770824012927, 'obvious': 6.229770824012927, 'obviously': 6.229770824012927, 'odd': 6.229770824012927, 'offers': 6.229770824012927, 'oscar': 6.229770824012927, 'owns': 6.229770824012927, 'paced': 6.229770824012927, 'painful': 6.229770824012927, 'paul': 6.229770824012927, 'perfectly': 6.229770824012927, 'person': 6.229770824012927, 'peter': 6.229770824012927, 'photography': 6.229770824012927, 'places': 6.229770824012927, 'player': 6.229770824012927, 'plays': 6.229770824012927, 'plus': 6.229770824012927, 'pm': 6.229770824012927, 'poet': 6.229770824012927, 'pointless': 6.229770824012927, 'possibly': 6.229770824012927, 'pretentious': 6.229770824012927, 'produced': 6.229770824012927, 'proud': 6.229770824012927, 'provoking': 6.229770824012927, 'pure': 6.229770824012927, 'quality': 6.229770824012927, 'question': 6.229770824012927, 'range': 6.229770824012927, 'ranks': 6.229770824012927, 'rated': 6.229770824012927, 'realistic': 6.229770824012927, 'receive': 6.229770824012927, 'relationship': 6.229770824012927, 'released': 6.229770824012927, 'remake': 6.229770824012927, 'remember': 6.229770824012927, 'result': 6.229770824012927, 'reviewer': 6.229770824012927, 'road': 6.229770824012927, 'scale': 6.229770824012927, 'scared': 6.229770824012927, 'scenery': 6.229770824012927, 'score': 6.229770824012927, 'screenwriter': 6.229770824012927, 'seemed': 6.229770824012927, 'seems': 6.229770824012927, 'sequel': 6.229770824012927, 'seriously': 6.229770824012927, 'served': 6.229770824012927, 'setting': 6.229770824012927, 'shame': 6.229770824012927, 'share': 6.229770824012927, 'shots': 6.229770824012927, 'showed': 6.229770824012927, 'shows': 6.229770824012927, 'silent': 6.229770824012927, 'singing': 6.229770824012927, 'sister': 6.229770824012927, 'situation': 6.229770824012927, 'sleep': 6.229770824012927, 'smart': 6.229770824012927, 'someone': 6.229770824012927, 'sort': 6.229770824012927, 'spent': 6.229770824012927, 'spoilers': 6.229770824012927, 'stanwyck': 6.229770824012927, 'stars': 6.229770824012927, 'stay': 6.229770824012927, 'step': 6.229770824012927, 'steve': 6.229770824012927, 'sublime': 6.229770824012927, 'sucked': 6.229770824012927, 'surprisingly': 6.229770824012927, 'surrounding': 6.229770824012927, 'takes': 6.229770824012927, 'taking': 6.229770824012927, 'talented': 6.229770824012927, 'teen': 6.229770824012927, 'tension': 6.229770824012927, 'thinking': 6.229770824012927, 'thoroughly': 6.229770824012927, 'thrown': 6.229770824012927, 'told': 6.229770824012927, 'touching': 6.229770824012927, 'treat': 6.229770824012927, 'tremendous': 6.229770824012927, 'twist': 6.229770824012927, 'unconvincing': 6.229770824012927, 'using': 6.229770824012927, 'values': 6.229770824012927, 'vomit': 6.229770824012927, 'walk': 6.229770824012927, 'watchable': 6.229770824012927, 'weak': 6.229770824012927, 'whatsoever': 6.229770824012927, 'whether': 6.229770824012927, 'wilkinson': 6.229770824012927, 'wind': 6.229770824012927, 'wish': 6.229770824012927, 'women': 6.229770824012927, 'wonderfully': 6.229770824012927, 'worthy': 6.229770824012927, 'wrong': 6.229770824012927, 'zombie': 6.229770824012927, 'adorable': 6.006627272698717, 'along': 6.006627272698717, 'already': 6.006627272698717, 'always': 6.006627272698717, 'american': 6.006627272698717, 'anne': 6.006627272698717, 'appreciate': 6.006627272698717, 'ask': 6.006627272698717, 'balance': 6.006627272698717, 'ball': 6.006627272698717, 'barely': 6.006627272698717, 'bat': 6.006627272698717, 'bear': 6.006627272698717, 'beginning': 6.006627272698717, 'book': 6.006627272698717, 'bored': 6.006627272698717, 'called': 6.006627272698717, 'card': 6.006627272698717, 'change': 6.006627272698717, 'check': 6.006627272698717, 'chemistry': 6.006627272698717, 'children': 6.006627272698717, 'clich': 6.006627272698717, 'close': 6.006627272698717, 'comment': 6.006627272698717, 'completely': 6.006627272698717, 'created': 6.006627272698717, 'cute': 6.006627272698717, 'dance': 6.006627272698717, 'dead': 6.006627272698717, 'deal': 6.006627272698717, 'death': 6.006627272698717, 'delight': 6.006627272698717, 'depth': 6.006627272698717, 'direction': 6.006627272698717, 'dislike': 6.006627272698717, 'drag': 6.006627272698717, 'easy': 6.006627272698717, 'emotion': 6.006627272698717, 'energy': 6.006627272698717, 'entertaining': 6.006627272698717, 'episode': 6.006627272698717, 'except': 6.006627272698717, 'eyes': 6.006627272698717, 'fall': 6.006627272698717, 'feature': 6.006627272698717, 'force': 6.006627272698717, 'fresh': 6.006627272698717, 'generally': 6.006627272698717, 'god': 6.006627272698717, 'grace': 6.006627272698717, 'ham': 6.006627272698717, 'handle': 6.006627272698717, 'hard': 6.006627272698717, 'head': 6.006627272698717, 'hell': 6.006627272698717, 'help': 6.006627272698717, 'hero': 6.006627272698717, 'home': 6.006627272698717, 'huge': 6.006627272698717, 'imagination': 6.006627272698717, 'incredible': 6.006627272698717, 'indeed': 6.006627272698717, 'insult': 6.006627272698717, 'intelligence': 6.006627272698717, 'intelligent': 6.006627272698717, 'james': 6.006627272698717, 'leave': 6.006627272698717, 'lee': 6.006627272698717, 'lion': 6.006627272698717, 'looked': 6.006627272698717, 'lost': 6.006627272698717, 'lots': 6.006627272698717, 'lovely': 6.006627272698717, 'maybe': 6.006627272698717, 'meaning': 6.006627272698717, 'mediocre': 6.006627272698717, 'mickey': 6.006627272698717, 'move': 6.006627272698717, 'murder': 6.006627272698717, 'occasionally': 6.006627272698717, 'offer': 6.006627272698717, 'often': 6.006627272698717, 'omit': 6.006627272698717, 'parts': 6.006627272698717, 'performances': 6.006627272698717, 'perhaps': 6.006627272698717, 'period': 6.006627272698717, 'photograph': 6.006627272698717, 'pieces': 6.006627272698717, 'plain': 6.006627272698717, 'possible': 6.006627272698717, 'power': 6.006627272698717, 'premise': 6.006627272698717, 'presents': 6.006627272698717, 'problems': 6.006627272698717, 'pull': 6.006627272698717, 'regret': 6.006627272698717, 'release': 6.006627272698717, 'rise': 6.006627272698717, 'roles': 6.006627272698717, 'room': 6.006627272698717, 'run': 6.006627272698717, 'said': 6.006627272698717, 'sequence': 6.006627272698717, 'sets': 6.006627272698717, 'site': 6.006627272698717, 'small': 6.006627272698717, 'something': 6.006627272698717, 'sometimes': 6.006627272698717, 'songs': 6.006627272698717, 'soundtrack': 6.006627272698717, 'south': 6.006627272698717, 'speak': 6.006627272698717, 'spoiler': 6.006627272698717, 'stories': 6.006627272698717, 'storyline': 6.006627272698717, 'sum': 6.006627272698717, 'supposed': 6.006627272698717, 'terrific': 6.006627272698717, 'theater': 6.006627272698717, 'theme': 6.006627272698717, 'thriller': 6.006627272698717, 'today': 6.006627272698717, 'tract': 6.006627272698717, 'trash': 6.006627272698717, 'true': 6.006627272698717, 'trying': 6.006627272698717, 'type': 6.006627272698717, 'unbelievable': 6.006627272698717, 'unfortunately': 6.006627272698717, 'ups': 6.006627272698717, 'usual': 6.006627272698717, 'utterly': 6.006627272698717, 'value': 6.006627272698717, 'viewer': 6.006627272698717, 'without': 6.006627272698717, 'words': 6.006627272698717, 'add': 5.824305715904762, 'ago': 5.824305715904762, 'amount': 5.824305715904762, 'angel': 5.824305715904762, 'another': 5.824305715904762, 'apt': 5.824305715904762, 'around': 5.824305715904762, 'audience': 5.824305715904762, 'away': 5.824305715904762, 'become': 5.824305715904762, 'beyond': 5.824305715904762, 'body': 5.824305715904762, 'cartoon': 5.824305715904762, 'charm': 5.824305715904762, 'clever': 5.824305715904762, 'comes': 5.824305715904762, 'core': 5.824305715904762, 'crap': 5.824305715904762, 'credible': 5.824305715904762, 'different': 5.824305715904762, 'editing': 5.824305715904762, 'else': 5.824305715904762, 'fails': 5.824305715904762, 'fans': 5.824305715904762, 'fast': 5.824305715904762, 'felt': 5.824305715904762, 'flaw': 5.824305715904762, 'flick': 5.824305715904762, 'forget': 5.824305715904762, 'gave': 5.824305715904762, 'general': 5.824305715904762, 'gives': 5.824305715904762, 'guess': 5.824305715904762, 'heart': 5.824305715904762, 'hip': 5.824305715904762, 'hold': 5.824305715904762, 'horrible': 5.824305715904762, 'house': 5.824305715904762, 'idea': 5.824305715904762, 'involved': 5.824305715904762, 'john': 5.824305715904762, 'lacks': 5.824305715904762, 'lame': 5.824305715904762, 'last': 5.824305715904762, 'level': 5.824305715904762, 'main': 5.824305715904762, 'male': 5.824305715904762, 'mark': 5.824305715904762, 'mention': 5.824305715904762, 'money': 5.824305715904762, 'motion': 5.824305715904762, 'note': 5.824305715904762, 'ones': 5.824305715904762, 'open': 5.824305715904762, 'overall': 5.824305715904762, 'particularly': 5.824305715904762, 'pathetic': 5.824305715904762, 'picture': 5.824305715904762, 'produce': 5.824305715904762, 'production': 5.824305715904762, 'raw': 5.824305715904762, 'reason': 5.824305715904762, 'recent': 5.824305715904762, 'relations': 5.824305715904762, 'ridiculous': 5.824305715904762, 'sand': 5.824305715904762, 'sat': 5.824305715904762, 'scare': 5.824305715904762, 'single': 5.824305715904762, 'solid': 5.824305715904762, 'space': 5.824305715904762, 'started': 5.824305715904762, 'state': 5.824305715904762, 'strong': 5.824305715904762, 'suck': 5.824305715904762, 'sure': 5.824305715904762, 'surprising': 5.824305715904762, 'talent': 5.824305715904762, 'talk': 5.824305715904762, 'torture': 5.824305715904762, 'touch': 5.824305715904762, 'track': 5.824305715904762, 'unfortunate': 5.824305715904762, 'uses': 5.824305715904762, 'utter': 5.824305715904762, 'visual': 5.824305715904762, 'wasted': 5.824305715904762, 'woo': 5.824305715904762, 'works': 5.824305715904762, 'world': 5.824305715904762, 'yet': 5.824305715904762, 'young': 5.824305715904762, 'actress': 5.670155036077504, 'america': 5.670155036077504, 'annoying': 5.670155036077504, 'avoid': 5.670155036077504, 'begin': 5.670155036077504, 'casting': 5.670155036077504, 'cost': 5.670155036077504, 'cult': 5.670155036077504, 'disappointed': 5.670155036077504, 'due': 5.670155036077504, 'early': 5.670155036077504, 'ends': 5.670155036077504, 'face': 5.670155036077504, 'follow': 5.670155036077504, 'free': 5.670155036077504, 'game': 5.670155036077504, 'gets': 5.670155036077504, 'hang': 5.670155036077504, 'happen': 5.670155036077504, 'hes': 5.670155036077504, 'hilarious': 5.670155036077504, 'hill': 5.670155036077504, 'history': 5.670155036077504, 'holes': 5.670155036077504, 'hope': 5.670155036077504, 'iso': 5.670155036077504, 'keep': 5.670155036077504, 'lead': 5.670155036077504, 'making': 5.670155036077504, 'member': 5.670155036077504, 'memorable': 5.670155036077504, 'moment': 5.670155036077504, 'mostly': 5.670155036077504, 'moving': 5.670155036077504, 'need': 5.670155036077504, 'nice': 5.670155036077504, 'nor': 5.670155036077504, 'original': 5.670155036077504, 'owed': 5.670155036077504, 'problem': 5.670155036077504, 'product': 5.670155036077504, 'rather': 5.670155036077504, 'relation': 5.670155036077504, 'review': 5.670155036077504, 'self': 5.670155036077504, 'sign': 5.670155036077504, 'spoil': 5.670155036077504, 'style': 5.670155036077504, 'subtle': 5.670155036077504, 'throughout': 5.670155036077504, 'ways': 5.670155036077504, 'whatever': 5.670155036077504, 'amazing': 5.536623643452981, 'bore': 5.536623643452981, 'brilliant': 5.536623643452981, 'budget': 5.536623643452981, 'certainly': 5.536623643452981, 'classic': 5.536623643452981, 'comedy': 5.536623643452981, 'convincing': 5.536623643452981, 'cool': 5.536623643452981, 'deliver': 5.536623643452981, 'done': 5.536623643452981, 'expect': 5.536623643452981, 'family': 5.536623643452981, 'final': 5.536623643452981, 'fine': 5.536623643452981, 'found': 5.536623643452981, 'garbage': 5.536623643452981, 'half': 5.536623643452981, 'hour': 5.536623643452981, 'kill': 5.536623643452981, 'late': 5.536623643452981, 'laugh': 5.536623643452981, 'least': 5.536623643452981, 'lid': 5.536623643452981, 'list': 5.536623643452981, 'may': 5.536623643452981, 'mind': 5.536623643452981, 'net': 5.536623643452981, 'night': 5.536623643452981, 'playing': 5.536623643452981, 'poor': 5.536623643452981, 'portrayal': 5.536623643452981, 'probably': 5.536623643452981, 'race': 5.536623643452981, 'rating': 5.536623643452981, 'ready': 5.536623643452981, 'recommended': 5.536623643452981, 'seeing': 5.536623643452981, 'sense': 5.536623643452981, 'serious': 5.536623643452981, 'shed': 5.536623643452981, 'since': 5.536623643452981, 'slow': 5.536623643452981, 'song': 5.536623643452981, 'start': 5.536623643452981, 'together': 5.536623643452981, 'tom': 5.536623643452981, 'tv': 5.536623643452981, 'write': 5.536623643452981, 'writer': 5.536623643452981, 'written': 5.536623643452981, 'yes': 5.536623643452981, 'anything': 5.418840607796598, 'arts': 5.418840607796598, 'attempt': 5.418840607796598, 'back': 5.418840607796598, 'bag': 5.418840607796598, 'bit': 5.418840607796598, 'certain': 5.418840607796598, 'cheap': 5.418840607796598, 'class': 5.418840607796598, 'complete': 5.418840607796598, 'consider': 5.418840607796598, 'cover': 5.418840607796598, 'create': 5.418840607796598, 'directing': 5.418840607796598, 'effects': 5.418840607796598, 'ended': 5.418840607796598, 'enjoyed': 5.418840607796598, 'enter': 5.418840607796598, 'entire': 5.418840607796598, 'especially': 5.418840607796598, 'everyone': 5.418840607796598, 'experience': 5.418840607796598, 'eye': 5.418840607796598, 'far': 5.418840607796598, 'fully': 5.418840607796598, 'hand': 5.418840607796598, 'horror': 5.418840607796598, 'human': 5.418840607796598, 'kids': 5.418840607796598, 'lance': 5.418840607796598, 'makes': 5.418840607796598, 'mess': 5.418840607796598, 'minutes': 5.418840607796598, 'must': 5.418840607796598, 'new': 5.418840607796598, 'particular': 5.418840607796598, 'place': 5.418840607796598, 'role': 5.418840607796598, 'sci': 5.418840607796598, 'second': 5.418840607796598, 'series': 5.418840607796598, 'shot': 5.418840607796598, 'simply': 5.418840607796598, 'superb': 5.418840607796598, 'suspense': 5.418840607796598, 'times': 5.418840607796598, 'truly': 5.418840607796598, 'watched': 5.418840607796598, 'whole': 5.418840607796598, 'absolutely': 5.3134800921387715, 'air': 5.3134800921387715, 'almost': 5.3134800921387715, 'bec': 5.3134800921387715, 'believe': 5.3134800921387715, 'black': 5.3134800921387715, 'boring': 5.3134800921387715, 'cat': 5.3134800921387715, 'cinematography': 5.3134800921387715, 'definitely': 5.3134800921387715, 'feeling': 5.3134800921387715, 'hear': 5.3134800921387715, 'highly': 5.3134800921387715, 'loved': 5.3134800921387715, 'master': 5.3134800921387715, 'pace': 5.3134800921387715, 'put': 5.3134800921387715, 'quite': 5.3134800921387715, 'row': 5.3134800921387715, 'sea': 5.3134800921387715, 'tale': 5.3134800921387715, 'top': 5.3134800921387715, 'turn': 5.3134800921387715, 'used': 5.3134800921387715, 'white': 5.3134800921387715, 'word': 5.3134800921387715, 'action': 5.218169912334447, 'actually': 5.218169912334447, 'believable': 5.218169912334447, 'care': 5.218169912334447, 'dee': 5.218169912334447, 'enough': 5.218169912334447, 'fact': 5.218169912334447, 'first': 5.218169912334447, 'girl': 5.218169912334447, 'going': 5.218169912334447, 'hate': 5.218169912334447, 'however': 5.218169912334447, 'kid': 5.218169912334447, 'kind': 5.218169912334447, 'lines': 5.218169912334447, 'mean': 5.218169912334447, 'non': 5.218169912334447, 'perfect': 5.218169912334447, 'played': 5.218169912334447, 'predictable': 5.218169912334447, 'round': 5.218169912334447, 'seem': 5.218169912334447, 'set': 5.218169912334447, 'take': 5.218169912334447, 'terrible': 5.218169912334447, 'two': 5.218169912334447, 'understand': 5.218169912334447, 'want': 5.218169912334447, 'worse': 5.218169912334447, 'worst': 5.218169912334447, 'big': 5.131158535344817, 'camera': 5.131158535344817, 'child': 5.131158535344817, 'day': 5.131158535344817, 'dialogue': 5.131158535344817, 'director': 5.131158535344817, 'drama': 5.131158535344817, 'effect': 5.131158535344817, 'find': 5.131158535344817, 'job': 5.131158535344817, 'liked': 5.131158535344817, 'minute': 5.131158535344817, 'nothing': 5.131158535344817, 'rough': 5.131158535344817, 'win': 5.131158535344817, 'beautiful': 5.05111582767128, 'ending': 5.05111582767128, 'everything': 5.05111582767128, 'fan': 5.05111582767128, 'feel': 5.05111582767128, 'fort': 5.05111582767128, 'light': 5.05111582767128, 'oh': 5.05111582767128, 'predict': 5.05111582767128, 'rate': 5.05111582767128, 'saw': 5.05111582767128, 'say': 5.05111582767128, 'short': 5.05111582767128, 'tell': 5.05111582767128, 'things': 5.05111582767128, 'total': 5.05111582767128, 'totally': 5.05111582767128, 'view': 5.05111582767128, 'years': 5.05111582767128, 'akin': 4.9770078555175585, 'awful': 4.9770078555175585, 'call': 4.9770078555175585, 'interesting': 4.9770078555175585, 'life': 4.9770078555175585, 'long': 4.9770078555175585, 'los': 4.9770078555175585, 'people': 4.9770078555175585, 'pretty': 4.9770078555175585, 'sound': 4.9770078555175585, 'stand': 4.9770078555175585, 'sub': 4.9770078555175585, 'super': 4.9770078555175585, 'writing': 4.9770078555175585, 'dialog': 4.908014984030608, 'full': 4.908014984030608, 'got': 4.908014984030608, 'high': 4.908014984030608, 'hot': 4.908014984030608, 'many': 4.908014984030608, 'music': 4.908014984030608, 'nut': 4.908014984030608, 'piece': 4.908014984030608, 'screen': 4.908014984030608, 'sit': 4.908014984030608, 'still': 4.908014984030608, 'stupid': 4.908014984030608, 'thought': 4.908014984030608, 'ann': 4.843476462893037, 'anyone': 4.843476462893037, 'enjoy': 4.843476462893037, 'excellent': 4.843476462893037, 'howe': 4.843476462893037, 'lack': 4.843476462893037, 'performance': 4.843476462893037, 'ray': 4.843476462893037, 'rent': 4.843476462893037, 'star': 4.843476462893037, 'try': 4.843476462893037, 'year': 4.843476462893037, 'better': 4.782851841076601, 'came': 4.782851841076601, 'know': 4.782851841076601, 'let': 4.782851841076601, 'point': 4.782851841076601, 'right': 4.782851841076601, 'scenes': 4.782851841076601, 'special': 4.782851841076601, 'aye': 4.725693427236653, 'cinema': 4.725693427236653, 'funny': 4.725693427236653, 'give': 4.725693427236653, 'interest': 4.725693427236653, 'little': 4.725693427236653, 'much': 4.725693427236653, 'side': 4.725693427236653, 'actors': 4.671626205966376, 'films': 4.671626205966376, 'form': 4.671626205966376, 'never': 4.671626205966376, 'old': 4.671626205966376, 'ought': 4.671626205966376, 'recommend': 4.671626205966376, 'war': 4.671626205966376, 'waste': 4.671626205966376, 'watching': 4.671626205966376, 'script': 4.620332911578826, 'worth': 4.620332911578826, 'think': 4.571542747409394, 'best': 4.525022731774501, 'joy': 4.525022731774501, 'rest': 4.525022731774501, 'wonderful': 4.525022731774501, 'ass': 4.480570969203668, 'come': 4.480570969203668, 'made': 4.480570969203668, 'movies': 4.480570969203668, 'ps': 4.480570969203668, 'seen': 4.480570969203668, 'direct': 4.438011354784871, 'fun': 4.438011354784871, 'less': 4.438011354784871, 'line': 4.438011354784871, 'wonder': 4.438011354784871, 'also': 4.397189360264616, 'cast': 4.397189360264616, 'could': 4.397189360264616, 'mad': 4.397189360264616, 'part': 4.397189360264616, 'show': 4.397189360264616, 'sing': 4.357968647111335, 'son': 4.357968647111335, 'ole': 4.320228319128488, 'plot': 4.320228319128488, 'work': 4.320228319128488, 'actor': 4.283860674957613, 'look': 4.283860674957613, 'scene': 4.283860674957613, 'story': 4.283860674957613, 'though': 4.283860674957613, 'low': 4.248769355146344, 'par': 4.248769355146344, 'ten': 4.248769355146344, 'would': 4.248769355146344, 'age': 4.214867803470662, 'car': 4.214867803470662, 'lie': 4.214867803470662, 'love': 4.182077980647671, 'use': 4.182077980647671, 'characters': 4.150329282333091, 'make': 4.150329282333091, 'qu': 4.150329282333091, 'great': 4.119557623666337, 'ms': 4.119557623666337, 'play': 4.119557623666337, 'every': 4.089704660516656, 'lot': 4.089704660516656, 'oy': 4.089704660516656, 'really': 4.089704660516656, 'well': 4.060717123643403, 'dr': 4.0325462466767075, 'way': 4.0325462466767075, 'even': 3.9784790254064317, 'get': 3.9784790254064317, 'um': 3.9784790254064317, 'acting': 3.927185731018881, 'watch': 3.9024931184285094, 'era': 3.854865069439255, 'character': 3.7874237886437223, 'good': 3.7874237886437223, 'thing': 3.7242448870221905, 'like': 3.7040421797046714, 'man': 3.6842395524084917, 'ue': 3.6842395524084917, 'time': 3.6457732715806954, 'ive': 3.590713494397668, 'pi': 3.590713494397668, 'bad': 3.573013917298267, 'real': 3.573013917298267, 'art': 3.5217206229107165, 'end': 3.505191320959506, 'see': 3.3965574799567104, 'go': 3.105205678615967, 'one': 3.094276608083777, 'ever': 3.0727704028628136, 'im': 3.0310977064622455, 'us': 2.7640349212132, 'not': 2.7408678619316658, 'act': 2.6960842593046923, 'di': 2.681591252002126, 'film': 2.6532205548729104, 'ho': 2.6532205548729104, 'movie': 2.625632598354081, 'la': 2.592184664286541, 'th': 2.4570098859182883, 'co': 2.406579032291396, 'de': 2.406579032291396, 'no': 2.390318511419616, 'fi': 2.369041112972331, 'ed': 2.0515447778101237, 'en': 1.88921743754562}\n",
            "\n",
            "My code feature names\n",
            "['aailiyah', 'abandoned', 'abroad', 'abstruse', 'academy', 'accents', 'accessible', 'acclaimed', 'accolades', 'accurately', 'achille', 'ackerman', 'adams', 'added', 'admins', 'admiration', 'admitted', 'adrift', 'adventure', 'aesthetically', 'affected', 'affleck', 'afternoon', 'agreed', 'aimless', 'aired', 'akasha', 'alert', 'alike', 'allison', 'allowing', 'alongside', 'amateurish', 'amazed', 'amazingly', 'amusing', 'amust', 'anatomist', 'angela', 'angelina', 'angry', 'anguish', 'angus', 'animals', 'animated', 'anita', 'anniversary', 'anthony', 'antithesis', 'anyway']\n"
          ]
        }
      ]
    },
    {
      "cell_type": "code",
      "metadata": {
        "colab": {
          "base_uri": "https://localhost:8080/"
        },
        "id": "FvclNH-WmgJD",
        "outputId": "333a943f-4b9b-4a4b-e406-147188bbc6d6"
      },
      "source": [
        "print(\"idf values after applying the fit method\")\n",
        "print(vocab_idf)\n",
        "#print(list(vocab_idf.values()))"
      ],
      "execution_count": 19,
      "outputs": [
        {
          "output_type": "stream",
          "name": "stdout",
          "text": [
            "idf values after applying the fit method\n",
            "{'aailiyah': 6.922918004572872, 'abandoned': 6.922918004572872, 'abroad': 6.922918004572872, 'abstruse': 6.922918004572872, 'academy': 6.922918004572872, 'accents': 6.922918004572872, 'accessible': 6.922918004572872, 'acclaimed': 6.922918004572872, 'accolades': 6.922918004572872, 'accurately': 6.922918004572872, 'achille': 6.922918004572872, 'ackerman': 6.922918004572872, 'adams': 6.922918004572872, 'added': 6.922918004572872, 'admins': 6.922918004572872, 'admiration': 6.922918004572872, 'admitted': 6.922918004572872, 'adrift': 6.922918004572872, 'adventure': 6.922918004572872, 'aesthetically': 6.922918004572872, 'affected': 6.922918004572872, 'affleck': 6.922918004572872, 'afternoon': 6.922918004572872, 'agreed': 6.922918004572872, 'aimless': 6.922918004572872, 'aired': 6.922918004572872, 'akasha': 6.922918004572872, 'alert': 6.922918004572872, 'alike': 6.922918004572872, 'allison': 6.922918004572872, 'allowing': 6.922918004572872, 'alongside': 6.922918004572872, 'amateurish': 6.922918004572872, 'amazed': 6.922918004572872, 'amazingly': 6.922918004572872, 'amusing': 6.922918004572872, 'amust': 6.922918004572872, 'anatomist': 6.922918004572872, 'angela': 6.922918004572872, 'angelina': 6.922918004572872, 'angry': 6.922918004572872, 'anguish': 6.922918004572872, 'angus': 6.922918004572872, 'animals': 6.922918004572872, 'animated': 6.922918004572872, 'anita': 6.922918004572872, 'anniversary': 6.922918004572872, 'anthony': 6.922918004572872, 'antithesis': 6.922918004572872, 'anyway': 6.922918004572872}\n"
          ]
        }
      ]
    },
    {
      "cell_type": "markdown",
      "metadata": {
        "id": "oLExheFAs-yF"
      },
      "source": [
        "**Observation:**\n",
        "All the top 50 feature's IDF value is 6.922918004572872 for both Sklearn and Custom implementation\n",
        "\n"
      ]
    },
    {
      "cell_type": "code",
      "metadata": {
        "id": "UMUhSyeLtlGw"
      },
      "source": [
        "def transform1(dataset,vocab,vocab_idf):\n",
        "    rows = []\n",
        "    columns = []\n",
        "    values = []\n",
        "      \n",
        "    \n",
        "    if isinstance(dataset, (list,)):\n",
        "         \n",
        "     \n",
        "      for idx, row in enumerate(dataset): # for each document in the dataset\n",
        "          # it will return a dict type object where key is the word and values is its frequency, {word:frequency}\n",
        "          #print(\"idx is \",idx)\n",
        "          word_freq = dict(Counter(row.split()))\n",
        "          terms_in_doc=word_freq.values()\n",
        "          Total_number_of_terms_in_document=sum(terms_in_doc)\n",
        "         # print(idx,row)\n",
        "      \n",
        "\n",
        "          # for every unique word in the document\n",
        "              \n",
        "\n",
        "          for word, freq in word_freq.items():  # for each unique word in the review.                \n",
        "              \n",
        "              if len(word) < 2:\n",
        "                  continue\n",
        "              # we will check if its there in the vocabulary that we build in fit() function\n",
        "              # dict.get() function will return the values, if the key doesn't exits it will return -1\n",
        "              \n",
        "              col_index = vocab.get(word, -1) # retreving the dimension number of a word\n",
        "              \n",
        "              # if the word exists\n",
        "              if col_index !=-1:\n",
        "                  # we are storing the index of the document\n",
        "                  rows.append(idx)\n",
        "                  # we are storing the dimensions of the word\n",
        "                  columns.append(col_index)\n",
        "                  #Number_of_t_in_document=freq\n",
        "                  # we are storing the frequency of the word\n",
        "                  tf=freq/Total_number_of_terms_in_document\n",
        "                  freq1=tf*vocab_idf[word]\n",
        "                  values.append(freq1)\n",
        "\n",
        "      #print(len(values), len(rows),len(columns),len(dataset),len(vocab))\n",
        "      return csr_matrix((values, (rows,columns)))\n",
        "      #, shape=(len(dataset),len(vocab)))\n",
        "    else:\n",
        "        print(\"you need to pass list of strings\")\n",
        "\n",
        "#op=transform1(corpus1, vocab,vocab_idf)\n",
        "#print(op.shape)"
      ],
      "execution_count": 29,
      "outputs": []
    },
    {
      "cell_type": "code",
      "metadata": {
        "colab": {
          "base_uri": "https://localhost:8080/"
        },
        "id": "AnLD6FOwtyCJ",
        "outputId": "534df362-1f4c-4d23-d931-a590cd47bca9"
      },
      "source": [
        "\n",
        "#sparse matrix\n",
        "op=transform1(corpus1, vocab,vocab_idf)\n",
        "\n",
        "#.toarray()\n",
        "op1=normalize(op)\n",
        "print()\n",
        "print(\"My code output \")\n",
        "print(\"Sparse matrix for first document\")\n",
        "print(op1[0])\n",
        "print(\"Dense matrix for first document\")\n",
        "print(op1[0].toarray()) #dense matrix\n",
        "#[0])"
      ],
      "execution_count": 30,
      "outputs": [
        {
          "output_type": "stream",
          "name": "stdout",
          "text": [
            "\n",
            "My code output \n",
            "Sparse matrix for first document\n",
            "  (0, 53)\t1.0\n",
            "Dense matrix for first document\n",
            "[[0. 0. 0. 0. 0. 0. 0. 0. 0. 0. 0. 0. 0. 0. 0. 0. 0. 0. 0. 0. 0. 0. 0. 0.\n",
            "  0. 0. 0. 0. 0. 0. 0. 0. 0. 0. 0. 0. 0. 0. 0. 0. 0. 0. 0. 0. 0. 0. 0. 0.\n",
            "  0. 0. 0. 0. 0. 1. 0. 0. 0. 0. 0. 0. 0. 0. 0. 0. 0. 0. 0. 0. 0. 0. 0. 0.\n",
            "  0. 0. 0. 0. 0. 0. 0. 0. 0. 0. 0. 0. 0. 0. 0. 0. 0. 0. 0. 0. 0. 0. 0. 0.\n",
            "  0. 0. 0. 0. 0. 0. 0. 0. 0. 0. 0.]]\n"
          ]
        }
      ]
    },
    {
      "cell_type": "code",
      "metadata": {
        "id": "eP3PGiPXq6F3"
      },
      "source": [
        "from sklearn.feature_extraction.text import TfidfVectorizer\n",
        "vectorizer1 = TfidfVectorizer(max_features=50)\n",
        "vectorizer1.fit(corpus1)\n",
        "skl_output = vectorizer1.transform(corpus1)"
      ],
      "execution_count": 23,
      "outputs": []
    },
    {
      "cell_type": "code",
      "metadata": {
        "colab": {
          "base_uri": "https://localhost:8080/"
        },
        "id": "gXDZp_8rrtVs",
        "outputId": "1b7b81c3-0055-488e-acde-d946718766f1"
      },
      "source": [
        "print(vectorizer1.get_feature_names())\n",
        "s=vectorizer1.idf_\n",
        "\n",
        "#print(sorted(s,reverse=True))\n"
      ],
      "execution_count": 31,
      "outputs": [
        {
          "output_type": "stream",
          "name": "stdout",
          "text": [
            "['acting', 'actors', 'also', 'bad', 'best', 'better', 'cast', 'character', 'characters', 'could', 'even', 'ever', 'every', 'excellent', 'film', 'films', 'funny', 'good', 'great', 'like', 'little', 'look', 'love', 'made', 'make', 'movie', 'movies', 'much', 'never', 'no', 'not', 'one', 'plot', 'real', 'really', 'scenes', 'script', 'see', 'seen', 'show', 'story', 'think', 'time', 'watch', 'watching', 'way', 'well', 'wonderful', 'work', 'would']\n"
          ]
        }
      ]
    },
    {
      "cell_type": "code",
      "metadata": {
        "id": "nr35epRWtTI3",
        "colab": {
          "base_uri": "https://localhost:8080/"
        },
        "outputId": "dca8686b-3e48-478f-f03e-50f2cb207dc1"
      },
      "source": [
        "skl_output.shape\n"
      ],
      "execution_count": 25,
      "outputs": [
        {
          "output_type": "execute_result",
          "data": {
            "text/plain": [
              "(746, 50)"
            ]
          },
          "metadata": {},
          "execution_count": 25
        }
      ]
    },
    {
      "cell_type": "code",
      "metadata": {
        "id": "nhgjuOKkt63f",
        "colab": {
          "base_uri": "https://localhost:8080/"
        },
        "outputId": "6b64474c-cd13-45ff-de6b-461de60dd6ce"
      },
      "source": [
        "\n",
        "print(skl_output[0])"
      ],
      "execution_count": 27,
      "outputs": [
        {
          "output_type": "stream",
          "name": "stdout",
          "text": [
            "  (0, 25)\t1.0\n"
          ]
        }
      ]
    },
    {
      "cell_type": "code",
      "metadata": {
        "id": "QUJCU2Qtt_Jp",
        "colab": {
          "base_uri": "https://localhost:8080/"
        },
        "outputId": "effa32b6-b4cc-4dad-f9a9-dcd85c6dd42d"
      },
      "source": [
        "print(skl_output[0].toarray())"
      ],
      "execution_count": 28,
      "outputs": [
        {
          "output_type": "stream",
          "name": "stdout",
          "text": [
            "[[0. 0. 0. 0. 0. 0. 0. 0. 0. 0. 0. 0. 0. 0. 0. 0. 0. 0. 0. 0. 0. 0. 0. 0.\n",
            "  0. 1. 0. 0. 0. 0. 0. 0. 0. 0. 0. 0. 0. 0. 0. 0. 0. 0. 0. 0. 0. 0. 0. 0.\n",
            "  0. 0.]]\n"
          ]
        }
      ]
    }
  ]
}